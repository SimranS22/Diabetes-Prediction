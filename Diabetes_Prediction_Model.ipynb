{
  "cells": [
    {
      "cell_type": "markdown",
      "metadata": {
        "id": "suextrDER2Tt"
      },
      "source": [
        "# **Diabetes Prediction Model**\n"
      ]
    },
    {
      "cell_type": "markdown",
      "metadata": {
        "id": "OZLEhJahR2Tu"
      },
      "source": [
        "## 1. Import the necessary libraries"
      ]
    },
    {
      "cell_type": "markdown",
      "metadata": {
        "id": "SX7OpKeGR2Tv"
      },
      "source": [
        "## 2. Load the dataset"
      ]
    },
    {
      "cell_type": "markdown",
      "metadata": {
        "id": "DvZ_AaynR2Tw"
      },
      "source": [
        "## 3. Introductory Insights\n",
        "\n",
        "Obtain introductory information such as shape of the data, number of rows, number of columns, etc."
      ]
    },
    {
      "cell_type": "markdown",
      "metadata": {
        "id": "oykYgTOdR2Tx"
      },
      "source": [
        "## 4. Statistical Insights"
      ]
    },
    {
      "cell_type": "markdown",
      "source": [
        "## 5. Data Cleaning\n",
        "\n",
        "Handling outliers, duplicates and missing values"
      ],
      "metadata": {
        "id": "vp9qQrf5IptL"
      }
    },
    {
      "cell_type": "markdown",
      "source": [
        "#### 5.1. Duplicates\n"
      ],
      "metadata": {
        "id": "-ABnzdWLI1S1"
      }
    },
    {
      "cell_type": "markdown",
      "source": [
        "#### 5.2. Missing Values"
      ],
      "metadata": {
        "id": "BI-IvolxI7uZ"
      }
    },
    {
      "cell_type": "markdown",
      "metadata": {
        "id": "GvBiJuZxR2Tz"
      },
      "source": [
        "#### 5.3. Outliers\n",
        "\n",
        "Some outliers represent natural variations in the population, and they should be left as is in your dataset. These are called true outliers. Other outliers are problematic and should be removed because they represent measurement errors, data entry or processing errors, or poor sampling."
      ]
    },
    {
      "cell_type": "markdown",
      "source": [
        "## 6. Data Visualisation"
      ],
      "metadata": {
        "id": "kGFBW7ezJu2w"
      }
    },
    {
      "cell_type": "markdown",
      "metadata": {
        "id": "SXjstASrR2T6"
      },
      "source": [
        "## 7. Data Modelling"
      ]
    },
    {
      "cell_type": "markdown",
      "metadata": {
        "id": "Ph0ZlWASR2T8"
      },
      "source": [
        "#### 7.1. Splitting the Dataset"
      ]
    },
    {
      "cell_type": "markdown",
      "source": [
        "#### 7.2. Encoding Text Data"
      ],
      "metadata": {
        "id": "wkBQEVzha-lO"
      }
    },
    {
      "cell_type": "markdown",
      "metadata": {
        "id": "abQcra47R2T_"
      },
      "source": [
        "#### 7.3. Model Training"
      ]
    },
    {
      "cell_type": "markdown",
      "metadata": {
        "id": "cBs1sWwkR2T_"
      },
      "source": [
        "## 8. Model Evaluation"
      ]
    },
    {
      "cell_type": "code",
      "source": [
        "# modell.predict_proba(X_test)[0]"
      ],
      "metadata": {
        "colab": {
          "base_uri": "https://localhost:8080/"
        },
        "id": "L2h482E0nOYr",
        "outputId": "76b478ee-49a9-4d5c-b9d7-df3a2a3ce00f"
      },
      "execution_count": null,
      "outputs": [
        {
          "output_type": "execute_result",
          "data": {
            "text/plain": [
              "array([0.9534447, 0.0465553])"
            ]
          },
          "metadata": {},
          "execution_count": 48
        }
      ]
    },
    {
      "cell_type": "markdown",
      "source": [
        "##  9. Model Testing"
      ],
      "metadata": {
        "id": "KZXOj5IzlfcL"
      }
    }
  ],
  "metadata": {
    "kernelspec": {
      "display_name": "Python 3",
      "language": "python",
      "name": "python3"
    },
    "language_info": {
      "codemirror_mode": {
        "name": "ipython",
        "version": 3
      },
      "file_extension": ".py",
      "mimetype": "text/x-python",
      "name": "python",
      "nbconvert_exporter": "python",
      "pygments_lexer": "ipython3",
      "version": "3.10.8"
    },
    "orig_nbformat": 4,
    "colab": {
      "provenance": []
    }
  },
  "nbformat": 4,
  "nbformat_minor": 0
}