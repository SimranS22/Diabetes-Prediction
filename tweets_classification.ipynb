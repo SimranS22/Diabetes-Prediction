{
  "cells": [
    {
      "cell_type": "code",
      "execution_count": 1,
      "id": "1f083de6",
      "metadata": {
        "_kg_hide-input": true,
        "execution": {
          "iopub.execute_input": "2023-12-12T15:34:59.880405Z",
          "iopub.status.busy": "2023-12-12T15:34:59.879469Z",
          "iopub.status.idle": "2023-12-12T15:34:59.882035Z",
          "shell.execute_reply": "2023-12-12T15:34:59.881545Z",
          "shell.execute_reply.started": "2023-12-12T15:17:29.708767Z"
        },
        "papermill": {
          "duration": 0.150688,
          "end_time": "2023-12-12T15:34:59.882166",
          "exception": false,
          "start_time": "2023-12-12T15:34:59.731478",
          "status": "completed"
        },
        "tags": [],
        "id": "1f083de6"
      },
      "outputs": [],
      "source": [
        "def conf_matrix(y, y_pred, title, labels):\n",
        "    fig, ax =plt.subplots(figsize=(7.5,7.5))\n",
        "    ax=sns.heatmap(confusion_matrix(y, y_pred), annot=True, cmap=\"Purples\", fmt='g', cbar=False, annot_kws={\"size\":30})\n",
        "    plt.title(title, fontsize=25)\n",
        "    ax.xaxis.set_ticklabels(labels, fontsize=16)\n",
        "    ax.yaxis.set_ticklabels(labels, fontsize=14.5)\n",
        "    ax.set_ylabel('Test', fontsize=25)\n",
        "    ax.set_xlabel('Predicted', fontsize=25)\n",
        "    plt.show()"
      ]
    },
    {
      "cell_type": "code",
      "execution_count": 2,
      "id": "125abcbb",
      "metadata": {
        "execution": {
          "iopub.execute_input": "2023-12-12T15:35:00.162731Z",
          "iopub.status.busy": "2023-12-12T15:35:00.162112Z",
          "iopub.status.idle": "2023-12-12T15:35:12.308553Z",
          "shell.execute_reply": "2023-12-12T15:35:12.307939Z",
          "shell.execute_reply.started": "2023-12-12T15:17:29.723982Z"
        },
        "papermill": {
          "duration": 12.289074,
          "end_time": "2023-12-12T15:35:12.308684",
          "exception": false,
          "start_time": "2023-12-12T15:35:00.019610",
          "status": "completed"
        },
        "tags": [],
        "colab": {
          "base_uri": "https://localhost:8080/"
        },
        "id": "125abcbb",
        "outputId": "dc488ad4-b52d-4754-ebdd-3e2c00811409"
      },
      "outputs": [
        {
          "output_type": "stream",
          "name": "stdout",
          "text": [
            "Requirement already satisfied: langdetect in /usr/local/lib/python3.10/dist-packages (1.0.9)\n",
            "Requirement already satisfied: six in /usr/local/lib/python3.10/dist-packages (from langdetect) (1.16.0)\n"
          ]
        }
      ],
      "source": [
        "pip install langdetect"
      ]
    },
    {
      "cell_type": "code",
      "execution_count": 3,
      "id": "383595d1",
      "metadata": {
        "execution": {
          "iopub.execute_input": "2023-12-12T15:35:12.604345Z",
          "iopub.status.busy": "2023-12-12T15:35:12.603663Z",
          "iopub.status.idle": "2023-12-12T15:35:22.050999Z",
          "shell.execute_reply": "2023-12-12T15:35:22.051583Z",
          "shell.execute_reply.started": "2023-12-12T15:17:41.982184Z"
        },
        "papermill": {
          "duration": 9.596139,
          "end_time": "2023-12-12T15:35:22.051755",
          "exception": false,
          "start_time": "2023-12-12T15:35:12.455616",
          "status": "completed"
        },
        "tags": [],
        "colab": {
          "base_uri": "https://localhost:8080/"
        },
        "id": "383595d1",
        "outputId": "e51cfc2a-ec82-44ff-fcbe-2db45a0c67ac"
      },
      "outputs": [
        {
          "output_type": "stream",
          "name": "stdout",
          "text": [
            "Requirement already satisfied: contractions in /usr/local/lib/python3.10/dist-packages (0.1.73)\n",
            "Requirement already satisfied: textsearch>=0.0.21 in /usr/local/lib/python3.10/dist-packages (from contractions) (0.0.24)\n",
            "Requirement already satisfied: anyascii in /usr/local/lib/python3.10/dist-packages (from textsearch>=0.0.21->contractions) (0.3.2)\n",
            "Requirement already satisfied: pyahocorasick in /usr/local/lib/python3.10/dist-packages (from textsearch>=0.0.21->contractions) (2.0.0)\n"
          ]
        }
      ],
      "source": [
        "pip install contractions"
      ]
    },
    {
      "cell_type": "code",
      "execution_count": 4,
      "id": "cb9e2423",
      "metadata": {
        "execution": {
          "iopub.execute_input": "2023-12-12T15:35:22.649031Z",
          "iopub.status.busy": "2023-12-12T15:35:22.648361Z",
          "iopub.status.idle": "2023-12-12T15:35:31.174801Z",
          "shell.execute_reply": "2023-12-12T15:35:31.175593Z",
          "shell.execute_reply.started": "2023-12-12T15:17:51.264012Z"
        },
        "id": "cb9e2423",
        "outputId": "1ef223b4-a3ab-42d2-8730-b6edebe0c6a9",
        "papermill": {
          "duration": 8.684424,
          "end_time": "2023-12-12T15:35:31.175763",
          "exception": false,
          "start_time": "2023-12-12T15:35:22.491339",
          "status": "completed"
        },
        "tags": [],
        "colab": {
          "base_uri": "https://localhost:8080/",
          "height": 679
        }
      },
      "outputs": [
        {
          "output_type": "stream",
          "name": "stdout",
          "text": [
            "Requirement already satisfied: emoji in /usr/local/lib/python3.10/dist-packages (2.9.0)\n",
            "Requirement already satisfied: contractions in /usr/local/lib/python3.10/dist-packages (0.1.73)\n",
            "Requirement already satisfied: textsearch>=0.0.21 in /usr/local/lib/python3.10/dist-packages (from contractions) (0.0.24)\n",
            "Requirement already satisfied: anyascii in /usr/local/lib/python3.10/dist-packages (from textsearch>=0.0.21->contractions) (0.3.2)\n",
            "Requirement already satisfied: pyahocorasick in /usr/local/lib/python3.10/dist-packages (from textsearch>=0.0.21->contractions) (2.0.0)\n"
          ]
        },
        {
          "output_type": "stream",
          "name": "stderr",
          "text": [
            "[nltk_data] Downloading package wordnet to /root/nltk_data...\n",
            "[nltk_data]   Package wordnet is already up-to-date!\n",
            "[nltk_data] Downloading package stopwords to /root/nltk_data...\n",
            "[nltk_data]   Package stopwords is already up-to-date!\n",
            "[nltk_data] Downloading package punkt to /root/nltk_data...\n",
            "[nltk_data]   Package punkt is already up-to-date!\n"
          ]
        },
        {
          "output_type": "stream",
          "name": "stdout",
          "text": [
            "Requirement already satisfied: langdetect in /usr/local/lib/python3.10/dist-packages (1.0.9)\n",
            "Requirement already satisfied: six in /usr/local/lib/python3.10/dist-packages (from langdetect) (1.16.0)\n",
            "Requirement already satisfied: gensim in /usr/local/lib/python3.10/dist-packages (4.3.2)\n",
            "Requirement already satisfied: numpy>=1.18.5 in /usr/local/lib/python3.10/dist-packages (from gensim) (1.23.5)\n",
            "Requirement already satisfied: scipy>=1.7.0 in /usr/local/lib/python3.10/dist-packages (from gensim) (1.11.4)\n",
            "Requirement already satisfied: smart-open>=1.8.1 in /usr/local/lib/python3.10/dist-packages (from gensim) (6.4.0)\n",
            "Requirement already satisfied: transformers in /usr/local/lib/python3.10/dist-packages (4.35.2)\n",
            "Requirement already satisfied: filelock in /usr/local/lib/python3.10/dist-packages (from transformers) (3.13.1)\n",
            "Requirement already satisfied: huggingface-hub<1.0,>=0.16.4 in /usr/local/lib/python3.10/dist-packages (from transformers) (0.20.1)\n",
            "Requirement already satisfied: numpy>=1.17 in /usr/local/lib/python3.10/dist-packages (from transformers) (1.23.5)\n",
            "Requirement already satisfied: packaging>=20.0 in /usr/local/lib/python3.10/dist-packages (from transformers) (23.2)\n",
            "Requirement already satisfied: pyyaml>=5.1 in /usr/local/lib/python3.10/dist-packages (from transformers) (6.0.1)\n",
            "Requirement already satisfied: regex!=2019.12.17 in /usr/local/lib/python3.10/dist-packages (from transformers) (2023.6.3)\n",
            "Requirement already satisfied: requests in /usr/local/lib/python3.10/dist-packages (from transformers) (2.31.0)\n",
            "Requirement already satisfied: tokenizers<0.19,>=0.14 in /usr/local/lib/python3.10/dist-packages (from transformers) (0.15.0)\n",
            "Requirement already satisfied: safetensors>=0.3.1 in /usr/local/lib/python3.10/dist-packages (from transformers) (0.4.1)\n",
            "Requirement already satisfied: tqdm>=4.27 in /usr/local/lib/python3.10/dist-packages (from transformers) (4.66.1)\n",
            "Requirement already satisfied: fsspec>=2023.5.0 in /usr/local/lib/python3.10/dist-packages (from huggingface-hub<1.0,>=0.16.4->transformers) (2023.6.0)\n",
            "Requirement already satisfied: typing-extensions>=3.7.4.3 in /usr/local/lib/python3.10/dist-packages (from huggingface-hub<1.0,>=0.16.4->transformers) (4.5.0)\n",
            "Requirement already satisfied: charset-normalizer<4,>=2 in /usr/local/lib/python3.10/dist-packages (from requests->transformers) (3.3.2)\n",
            "Requirement already satisfied: idna<4,>=2.5 in /usr/local/lib/python3.10/dist-packages (from requests->transformers) (3.6)\n",
            "Requirement already satisfied: urllib3<3,>=1.21.1 in /usr/local/lib/python3.10/dist-packages (from requests->transformers) (2.0.7)\n",
            "Requirement already satisfied: certifi>=2017.4.17 in /usr/local/lib/python3.10/dist-packages (from requests->transformers) (2023.11.17)\n"
          ]
        },
        {
          "output_type": "stream",
          "name": "stderr",
          "text": [
            "<ipython-input-4-67483aa00ea1>:67: MatplotlibDeprecationWarning: The seaborn styles shipped by Matplotlib are deprecated since 3.6, as they no longer correspond to the styles shipped by seaborn. However, they will remain available as 'seaborn-v0_8-<style>'. Alternatively, directly use the seaborn API instead.\n",
            "  plt.style.use(\"seaborn-whitegrid\")\n"
          ]
        },
        {
          "output_type": "display_data",
          "data": {
            "text/plain": [
              "<Figure size 640x480 with 0 Axes>"
            ]
          },
          "metadata": {}
        }
      ],
      "source": [
        "# Libraries for general purpose\n",
        "import pandas as pd\n",
        "import numpy as np\n",
        "import matplotlib.pyplot as plt\n",
        "import seaborn as sns\n",
        "\n",
        "# Text cleaning\n",
        "import re\n",
        "import string\n",
        "!pip install emoji\n",
        "import emoji\n",
        "import nltk\n",
        "!pip install contractions\n",
        "import contractions\n",
        "from nltk.stem import WordNetLemmatizer, PorterStemmer\n",
        "from nltk.corpus import stopwords\n",
        "nltk.download('wordnet')\n",
        "nltk.download('stopwords')\n",
        "nltk.download('punkt')\n",
        "\n",
        "# Data preprocessing\n",
        "from sklearn import preprocessing\n",
        "from sklearn.model_selection import train_test_split\n",
        "from imblearn.over_sampling import RandomOverSampler\n",
        "!pip install langdetect\n",
        "from langdetect import detect, LangDetectException\n",
        "from nltk.tokenize import word_tokenize\n",
        "\n",
        "# Naive Bayes\n",
        "from sklearn.feature_extraction.text import CountVectorizer\n",
        "from sklearn.feature_extraction.text import TfidfTransformer\n",
        "from sklearn.naive_bayes import MultinomialNB\n",
        "\n",
        "# PyTorch LSTM\n",
        "import torch\n",
        "import torch.nn as nn\n",
        "import torch.nn.functional as F\n",
        "import torch.optim as optim\n",
        "from torch.utils.data import TensorDataset, DataLoader, RandomSampler, SequentialSampler\n",
        "\n",
        "# Tokenization for LSTM\n",
        "from collections import Counter\n",
        "!pip install gensim\n",
        "from gensim.models import Word2Vec\n",
        "\n",
        "# Transformers library for BERT\n",
        "!pip install transformers\n",
        "import transformers\n",
        "from transformers import BertModel\n",
        "from transformers import BertTokenizer\n",
        "from transformers import AdamW, get_linear_schedule_with_warmup\n",
        "from sklearn.metrics import classification_report, confusion_matrix\n",
        "\n",
        "import time\n",
        "\n",
        "# Set seed for reproducibility\n",
        "import random\n",
        "seed_value = 2042\n",
        "random.seed(seed_value)\n",
        "np.random.seed(seed_value)\n",
        "torch.manual_seed(seed_value)\n",
        "torch.cuda.manual_seed_all(seed_value)\n",
        "\n",
        "# Set style for plots\n",
        "sns.set_style(\"whitegrid\")\n",
        "sns.despine()\n",
        "plt.style.use(\"seaborn-whitegrid\")\n",
        "plt.rc(\"figure\", autolayout=True)\n",
        "plt.rc(\"axes\", labelweight=\"bold\", labelsize=\"large\", titleweight=\"bold\", titlepad=10)\n",
        "\n",
        "# Define stop words for text cleaning\n",
        "stop_words = set(stopwords.words('english'))\n",
        "\n",
        "# Initialize lemmatizer for text cleaning\n",
        "lemmatizer = WordNetLemmatizer()\n"
      ]
    },
    {
      "cell_type": "code",
      "execution_count": 5,
      "id": "c0610ce6",
      "metadata": {
        "execution": {
          "iopub.execute_input": "2023-12-12T15:35:31.766564Z",
          "iopub.status.busy": "2023-12-12T15:35:31.765721Z",
          "iopub.status.idle": "2023-12-12T15:35:31.978574Z",
          "shell.execute_reply": "2023-12-12T15:35:31.978021Z",
          "shell.execute_reply.started": "2023-12-12T15:18:00.295919Z"
        },
        "id": "c0610ce6",
        "papermill": {
          "duration": 0.363121,
          "end_time": "2023-12-12T15:35:31.978718",
          "exception": false,
          "start_time": "2023-12-12T15:35:31.615597",
          "status": "completed"
        },
        "tags": [],
        "colab": {
          "base_uri": "https://localhost:8080/"
        },
        "outputId": "46875a76-df74-4351-a6e0-0674984725e3"
      },
      "outputs": [
        {
          "output_type": "stream",
          "name": "stdout",
          "text": [
            "Drive already mounted at /content/drive; to attempt to forcibly remount, call drive.mount(\"/content/drive\", force_remount=True).\n"
          ]
        }
      ],
      "source": [
        "# Mount Google Drive\n",
        "from google.colab import drive\n",
        "drive.mount('/content/drive')\n",
        "\n",
        "# Import necessary libraries\n",
        "import pandas as pd\n",
        "\n",
        "# File path in your Google Drive (adjust the path accordingly)\n",
        "file_path = '/content/drive/My Drive/cyberbullying_tweets.csv'\n",
        "\n",
        "# Read the CSV file using Pandas\n",
        "df= pd.read_csv(file_path)"
      ]
    },
    {
      "cell_type": "code",
      "execution_count": 6,
      "id": "242f1424",
      "metadata": {
        "execution": {
          "iopub.execute_input": "2023-12-12T15:35:32.277462Z",
          "iopub.status.busy": "2023-12-12T15:35:32.276791Z",
          "iopub.status.idle": "2023-12-12T15:35:32.287322Z",
          "shell.execute_reply": "2023-12-12T15:35:32.286740Z",
          "shell.execute_reply.started": "2023-12-12T15:18:00.492702Z"
        },
        "id": "242f1424",
        "outputId": "6b0e567e-e602-4639-81cc-ac32d28bcdd5",
        "papermill": {
          "duration": 0.162495,
          "end_time": "2023-12-12T15:35:32.287455",
          "exception": false,
          "start_time": "2023-12-12T15:35:32.124960",
          "status": "completed"
        },
        "tags": [],
        "colab": {
          "base_uri": "https://localhost:8080/",
          "height": 206
        }
      },
      "outputs": [
        {
          "output_type": "execute_result",
          "data": {
            "text/plain": [
              "                                          tweet_text cyberbullying_type\n",
              "0  In other words #katandandre, your food was cra...  not_cyberbullying\n",
              "1  Why is #aussietv so white? #MKR #theblock #ImA...  not_cyberbullying\n",
              "2  @XochitlSuckkks a classy whore? Or more red ve...  not_cyberbullying\n",
              "3  @Jason_Gio meh. :P  thanks for the heads up, b...  not_cyberbullying\n",
              "4  @RudhoeEnglish This is an ISIS account pretend...  not_cyberbullying"
            ],
            "text/html": [
              "\n",
              "  <div id=\"df-1d888493-301c-413c-82fc-72e962f49ee2\" class=\"colab-df-container\">\n",
              "    <div>\n",
              "<style scoped>\n",
              "    .dataframe tbody tr th:only-of-type {\n",
              "        vertical-align: middle;\n",
              "    }\n",
              "\n",
              "    .dataframe tbody tr th {\n",
              "        vertical-align: top;\n",
              "    }\n",
              "\n",
              "    .dataframe thead th {\n",
              "        text-align: right;\n",
              "    }\n",
              "</style>\n",
              "<table border=\"1\" class=\"dataframe\">\n",
              "  <thead>\n",
              "    <tr style=\"text-align: right;\">\n",
              "      <th></th>\n",
              "      <th>tweet_text</th>\n",
              "      <th>cyberbullying_type</th>\n",
              "    </tr>\n",
              "  </thead>\n",
              "  <tbody>\n",
              "    <tr>\n",
              "      <th>0</th>\n",
              "      <td>In other words #katandandre, your food was cra...</td>\n",
              "      <td>not_cyberbullying</td>\n",
              "    </tr>\n",
              "    <tr>\n",
              "      <th>1</th>\n",
              "      <td>Why is #aussietv so white? #MKR #theblock #ImA...</td>\n",
              "      <td>not_cyberbullying</td>\n",
              "    </tr>\n",
              "    <tr>\n",
              "      <th>2</th>\n",
              "      <td>@XochitlSuckkks a classy whore? Or more red ve...</td>\n",
              "      <td>not_cyberbullying</td>\n",
              "    </tr>\n",
              "    <tr>\n",
              "      <th>3</th>\n",
              "      <td>@Jason_Gio meh. :P  thanks for the heads up, b...</td>\n",
              "      <td>not_cyberbullying</td>\n",
              "    </tr>\n",
              "    <tr>\n",
              "      <th>4</th>\n",
              "      <td>@RudhoeEnglish This is an ISIS account pretend...</td>\n",
              "      <td>not_cyberbullying</td>\n",
              "    </tr>\n",
              "  </tbody>\n",
              "</table>\n",
              "</div>\n",
              "    <div class=\"colab-df-buttons\">\n",
              "\n",
              "  <div class=\"colab-df-container\">\n",
              "    <button class=\"colab-df-convert\" onclick=\"convertToInteractive('df-1d888493-301c-413c-82fc-72e962f49ee2')\"\n",
              "            title=\"Convert this dataframe to an interactive table.\"\n",
              "            style=\"display:none;\">\n",
              "\n",
              "  <svg xmlns=\"http://www.w3.org/2000/svg\" height=\"24px\" viewBox=\"0 -960 960 960\">\n",
              "    <path d=\"M120-120v-720h720v720H120Zm60-500h600v-160H180v160Zm220 220h160v-160H400v160Zm0 220h160v-160H400v160ZM180-400h160v-160H180v160Zm440 0h160v-160H620v160ZM180-180h160v-160H180v160Zm440 0h160v-160H620v160Z\"/>\n",
              "  </svg>\n",
              "    </button>\n",
              "\n",
              "  <style>\n",
              "    .colab-df-container {\n",
              "      display:flex;\n",
              "      gap: 12px;\n",
              "    }\n",
              "\n",
              "    .colab-df-convert {\n",
              "      background-color: #E8F0FE;\n",
              "      border: none;\n",
              "      border-radius: 50%;\n",
              "      cursor: pointer;\n",
              "      display: none;\n",
              "      fill: #1967D2;\n",
              "      height: 32px;\n",
              "      padding: 0 0 0 0;\n",
              "      width: 32px;\n",
              "    }\n",
              "\n",
              "    .colab-df-convert:hover {\n",
              "      background-color: #E2EBFA;\n",
              "      box-shadow: 0px 1px 2px rgba(60, 64, 67, 0.3), 0px 1px 3px 1px rgba(60, 64, 67, 0.15);\n",
              "      fill: #174EA6;\n",
              "    }\n",
              "\n",
              "    .colab-df-buttons div {\n",
              "      margin-bottom: 4px;\n",
              "    }\n",
              "\n",
              "    [theme=dark] .colab-df-convert {\n",
              "      background-color: #3B4455;\n",
              "      fill: #D2E3FC;\n",
              "    }\n",
              "\n",
              "    [theme=dark] .colab-df-convert:hover {\n",
              "      background-color: #434B5C;\n",
              "      box-shadow: 0px 1px 3px 1px rgba(0, 0, 0, 0.15);\n",
              "      filter: drop-shadow(0px 1px 2px rgba(0, 0, 0, 0.3));\n",
              "      fill: #FFFFFF;\n",
              "    }\n",
              "  </style>\n",
              "\n",
              "    <script>\n",
              "      const buttonEl =\n",
              "        document.querySelector('#df-1d888493-301c-413c-82fc-72e962f49ee2 button.colab-df-convert');\n",
              "      buttonEl.style.display =\n",
              "        google.colab.kernel.accessAllowed ? 'block' : 'none';\n",
              "\n",
              "      async function convertToInteractive(key) {\n",
              "        const element = document.querySelector('#df-1d888493-301c-413c-82fc-72e962f49ee2');\n",
              "        const dataTable =\n",
              "          await google.colab.kernel.invokeFunction('convertToInteractive',\n",
              "                                                    [key], {});\n",
              "        if (!dataTable) return;\n",
              "\n",
              "        const docLinkHtml = 'Like what you see? Visit the ' +\n",
              "          '<a target=\"_blank\" href=https://colab.research.google.com/notebooks/data_table.ipynb>data table notebook</a>'\n",
              "          + ' to learn more about interactive tables.';\n",
              "        element.innerHTML = '';\n",
              "        dataTable['output_type'] = 'display_data';\n",
              "        await google.colab.output.renderOutput(dataTable, element);\n",
              "        const docLink = document.createElement('div');\n",
              "        docLink.innerHTML = docLinkHtml;\n",
              "        element.appendChild(docLink);\n",
              "      }\n",
              "    </script>\n",
              "  </div>\n",
              "\n",
              "\n",
              "<div id=\"df-4220b59f-0b49-4bed-9840-7642bddf6568\">\n",
              "  <button class=\"colab-df-quickchart\" onclick=\"quickchart('df-4220b59f-0b49-4bed-9840-7642bddf6568')\"\n",
              "            title=\"Suggest charts\"\n",
              "            style=\"display:none;\">\n",
              "\n",
              "<svg xmlns=\"http://www.w3.org/2000/svg\" height=\"24px\"viewBox=\"0 0 24 24\"\n",
              "     width=\"24px\">\n",
              "    <g>\n",
              "        <path d=\"M19 3H5c-1.1 0-2 .9-2 2v14c0 1.1.9 2 2 2h14c1.1 0 2-.9 2-2V5c0-1.1-.9-2-2-2zM9 17H7v-7h2v7zm4 0h-2V7h2v10zm4 0h-2v-4h2v4z\"/>\n",
              "    </g>\n",
              "</svg>\n",
              "  </button>\n",
              "\n",
              "<style>\n",
              "  .colab-df-quickchart {\n",
              "      --bg-color: #E8F0FE;\n",
              "      --fill-color: #1967D2;\n",
              "      --hover-bg-color: #E2EBFA;\n",
              "      --hover-fill-color: #174EA6;\n",
              "      --disabled-fill-color: #AAA;\n",
              "      --disabled-bg-color: #DDD;\n",
              "  }\n",
              "\n",
              "  [theme=dark] .colab-df-quickchart {\n",
              "      --bg-color: #3B4455;\n",
              "      --fill-color: #D2E3FC;\n",
              "      --hover-bg-color: #434B5C;\n",
              "      --hover-fill-color: #FFFFFF;\n",
              "      --disabled-bg-color: #3B4455;\n",
              "      --disabled-fill-color: #666;\n",
              "  }\n",
              "\n",
              "  .colab-df-quickchart {\n",
              "    background-color: var(--bg-color);\n",
              "    border: none;\n",
              "    border-radius: 50%;\n",
              "    cursor: pointer;\n",
              "    display: none;\n",
              "    fill: var(--fill-color);\n",
              "    height: 32px;\n",
              "    padding: 0;\n",
              "    width: 32px;\n",
              "  }\n",
              "\n",
              "  .colab-df-quickchart:hover {\n",
              "    background-color: var(--hover-bg-color);\n",
              "    box-shadow: 0 1px 2px rgba(60, 64, 67, 0.3), 0 1px 3px 1px rgba(60, 64, 67, 0.15);\n",
              "    fill: var(--button-hover-fill-color);\n",
              "  }\n",
              "\n",
              "  .colab-df-quickchart-complete:disabled,\n",
              "  .colab-df-quickchart-complete:disabled:hover {\n",
              "    background-color: var(--disabled-bg-color);\n",
              "    fill: var(--disabled-fill-color);\n",
              "    box-shadow: none;\n",
              "  }\n",
              "\n",
              "  .colab-df-spinner {\n",
              "    border: 2px solid var(--fill-color);\n",
              "    border-color: transparent;\n",
              "    border-bottom-color: var(--fill-color);\n",
              "    animation:\n",
              "      spin 1s steps(1) infinite;\n",
              "  }\n",
              "\n",
              "  @keyframes spin {\n",
              "    0% {\n",
              "      border-color: transparent;\n",
              "      border-bottom-color: var(--fill-color);\n",
              "      border-left-color: var(--fill-color);\n",
              "    }\n",
              "    20% {\n",
              "      border-color: transparent;\n",
              "      border-left-color: var(--fill-color);\n",
              "      border-top-color: var(--fill-color);\n",
              "    }\n",
              "    30% {\n",
              "      border-color: transparent;\n",
              "      border-left-color: var(--fill-color);\n",
              "      border-top-color: var(--fill-color);\n",
              "      border-right-color: var(--fill-color);\n",
              "    }\n",
              "    40% {\n",
              "      border-color: transparent;\n",
              "      border-right-color: var(--fill-color);\n",
              "      border-top-color: var(--fill-color);\n",
              "    }\n",
              "    60% {\n",
              "      border-color: transparent;\n",
              "      border-right-color: var(--fill-color);\n",
              "    }\n",
              "    80% {\n",
              "      border-color: transparent;\n",
              "      border-right-color: var(--fill-color);\n",
              "      border-bottom-color: var(--fill-color);\n",
              "    }\n",
              "    90% {\n",
              "      border-color: transparent;\n",
              "      border-bottom-color: var(--fill-color);\n",
              "    }\n",
              "  }\n",
              "</style>\n",
              "\n",
              "  <script>\n",
              "    async function quickchart(key) {\n",
              "      const quickchartButtonEl =\n",
              "        document.querySelector('#' + key + ' button');\n",
              "      quickchartButtonEl.disabled = true;  // To prevent multiple clicks.\n",
              "      quickchartButtonEl.classList.add('colab-df-spinner');\n",
              "      try {\n",
              "        const charts = await google.colab.kernel.invokeFunction(\n",
              "            'suggestCharts', [key], {});\n",
              "      } catch (error) {\n",
              "        console.error('Error during call to suggestCharts:', error);\n",
              "      }\n",
              "      quickchartButtonEl.classList.remove('colab-df-spinner');\n",
              "      quickchartButtonEl.classList.add('colab-df-quickchart-complete');\n",
              "    }\n",
              "    (() => {\n",
              "      let quickchartButtonEl =\n",
              "        document.querySelector('#df-4220b59f-0b49-4bed-9840-7642bddf6568 button');\n",
              "      quickchartButtonEl.style.display =\n",
              "        google.colab.kernel.accessAllowed ? 'block' : 'none';\n",
              "    })();\n",
              "  </script>\n",
              "</div>\n",
              "\n",
              "    </div>\n",
              "  </div>\n"
            ]
          },
          "metadata": {},
          "execution_count": 6
        }
      ],
      "source": [
        "df.head()"
      ]
    },
    {
      "cell_type": "code",
      "execution_count": 7,
      "id": "dbc7e599",
      "metadata": {
        "execution": {
          "iopub.execute_input": "2023-12-12T15:35:32.596571Z",
          "iopub.status.busy": "2023-12-12T15:35:32.595916Z",
          "iopub.status.idle": "2023-12-12T15:35:32.613244Z",
          "shell.execute_reply": "2023-12-12T15:35:32.613679Z",
          "shell.execute_reply.started": "2023-12-12T15:18:00.507054Z"
        },
        "papermill": {
          "duration": 0.180431,
          "end_time": "2023-12-12T15:35:32.613830",
          "exception": false,
          "start_time": "2023-12-12T15:35:32.433399",
          "status": "completed"
        },
        "tags": [],
        "colab": {
          "base_uri": "https://localhost:8080/"
        },
        "id": "dbc7e599",
        "outputId": "ed472d6a-af66-463f-9c4c-0deb414d9f6e"
      },
      "outputs": [
        {
          "output_type": "stream",
          "name": "stdout",
          "text": [
            "<class 'pandas.core.frame.DataFrame'>\n",
            "RangeIndex: 47692 entries, 0 to 47691\n",
            "Data columns (total 2 columns):\n",
            " #   Column              Non-Null Count  Dtype \n",
            "---  ------              --------------  ----- \n",
            " 0   tweet_text          47692 non-null  object\n",
            " 1   cyberbullying_type  47692 non-null  object\n",
            "dtypes: object(2)\n",
            "memory usage: 745.3+ KB\n"
          ]
        }
      ],
      "source": [
        "df.info()"
      ]
    },
    {
      "cell_type": "code",
      "execution_count": 8,
      "id": "70f924d3",
      "metadata": {
        "execution": {
          "iopub.execute_input": "2023-12-12T15:35:33.204421Z",
          "iopub.status.busy": "2023-12-12T15:35:33.202611Z",
          "iopub.status.idle": "2023-12-12T15:35:33.207017Z",
          "shell.execute_reply": "2023-12-12T15:35:33.206474Z",
          "shell.execute_reply.started": "2023-12-12T15:18:00.537789Z"
        },
        "id": "70f924d3",
        "papermill": {
          "duration": 0.154848,
          "end_time": "2023-12-12T15:35:33.207155",
          "exception": false,
          "start_time": "2023-12-12T15:35:33.052307",
          "status": "completed"
        },
        "tags": []
      },
      "outputs": [],
      "source": [
        "df = df.rename(columns={'tweet_text': 'text', 'cyberbullying_type': 'sentiment'})"
      ]
    },
    {
      "cell_type": "code",
      "execution_count": 9,
      "id": "2ad812f3",
      "metadata": {
        "execution": {
          "iopub.execute_input": "2023-12-12T15:35:33.806048Z",
          "iopub.status.busy": "2023-12-12T15:35:33.805191Z",
          "iopub.status.idle": "2023-12-12T15:35:33.833818Z",
          "shell.execute_reply": "2023-12-12T15:35:33.833311Z",
          "shell.execute_reply.started": "2023-12-12T15:18:00.547551Z"
        },
        "papermill": {
          "duration": 0.189636,
          "end_time": "2023-12-12T15:35:33.833979",
          "exception": false,
          "start_time": "2023-12-12T15:35:33.644343",
          "status": "completed"
        },
        "tags": [],
        "colab": {
          "base_uri": "https://localhost:8080/"
        },
        "id": "2ad812f3",
        "outputId": "85451db7-9e6d-4604-9392-af17a10a1e74"
      },
      "outputs": [
        {
          "output_type": "execute_result",
          "data": {
            "text/plain": [
              "36"
            ]
          },
          "metadata": {},
          "execution_count": 9
        }
      ],
      "source": [
        "df.duplicated().sum()"
      ]
    },
    {
      "cell_type": "code",
      "execution_count": 10,
      "id": "74a9f496",
      "metadata": {
        "execution": {
          "iopub.execute_input": "2023-12-12T15:35:34.430552Z",
          "iopub.status.busy": "2023-12-12T15:35:34.427358Z",
          "iopub.status.idle": "2023-12-12T15:35:34.457971Z",
          "shell.execute_reply": "2023-12-12T15:35:34.457325Z",
          "shell.execute_reply.started": "2023-12-12T15:18:00.595793Z"
        },
        "id": "74a9f496",
        "papermill": {
          "duration": 0.183915,
          "end_time": "2023-12-12T15:35:34.458105",
          "exception": false,
          "start_time": "2023-12-12T15:35:34.274190",
          "status": "completed"
        },
        "tags": []
      },
      "outputs": [],
      "source": [
        "df = df[~df.duplicated()]"
      ]
    },
    {
      "cell_type": "code",
      "execution_count": 11,
      "id": "d47b4db9",
      "metadata": {
        "execution": {
          "iopub.execute_input": "2023-12-12T15:35:34.766815Z",
          "iopub.status.busy": "2023-12-12T15:35:34.766219Z",
          "iopub.status.idle": "2023-12-12T15:35:34.775537Z",
          "shell.execute_reply": "2023-12-12T15:35:34.775055Z",
          "shell.execute_reply.started": "2023-12-12T15:18:00.631296Z"
        },
        "id": "d47b4db9",
        "outputId": "2d7f84a6-1f6a-4d89-a2c4-377b5e4594b9",
        "papermill": {
          "duration": 0.169215,
          "end_time": "2023-12-12T15:35:34.775665",
          "exception": false,
          "start_time": "2023-12-12T15:35:34.606450",
          "status": "completed"
        },
        "tags": [],
        "colab": {
          "base_uri": "https://localhost:8080/"
        }
      },
      "outputs": [
        {
          "output_type": "stream",
          "name": "stdout",
          "text": [
            "<class 'pandas.core.frame.DataFrame'>\n",
            "Int64Index: 47656 entries, 0 to 47691\n",
            "Data columns (total 2 columns):\n",
            " #   Column     Non-Null Count  Dtype \n",
            "---  ------     --------------  ----- \n",
            " 0   text       47656 non-null  object\n",
            " 1   sentiment  47656 non-null  object\n",
            "dtypes: object(2)\n",
            "memory usage: 1.1+ MB\n"
          ]
        }
      ],
      "source": [
        "df.info()"
      ]
    },
    {
      "cell_type": "code",
      "execution_count": 12,
      "id": "2eed1579",
      "metadata": {
        "execution": {
          "iopub.execute_input": "2023-12-12T15:35:35.375321Z",
          "iopub.status.busy": "2023-12-12T15:35:35.374520Z",
          "iopub.status.idle": "2023-12-12T15:35:35.378015Z",
          "shell.execute_reply": "2023-12-12T15:35:35.377444Z",
          "shell.execute_reply.started": "2023-12-12T15:18:00.652754Z"
        },
        "id": "2eed1579",
        "outputId": "b8a90572-5abc-47de-c4f5-f28097240c96",
        "papermill": {
          "duration": 0.161562,
          "end_time": "2023-12-12T15:35:35.378169",
          "exception": false,
          "start_time": "2023-12-12T15:35:35.216607",
          "status": "completed"
        },
        "tags": [],
        "colab": {
          "base_uri": "https://localhost:8080/"
        }
      },
      "outputs": [
        {
          "output_type": "execute_result",
          "data": {
            "text/plain": [
              "religion               7997\n",
              "age                    7992\n",
              "ethnicity              7959\n",
              "gender                 7948\n",
              "not_cyberbullying      7937\n",
              "other_cyberbullying    7823\n",
              "Name: sentiment, dtype: int64"
            ]
          },
          "metadata": {},
          "execution_count": 12
        }
      ],
      "source": [
        "df.sentiment.value_counts()"
      ]
    },
    {
      "cell_type": "code",
      "execution_count": 13,
      "id": "10c74871",
      "metadata": {
        "execution": {
          "iopub.execute_input": "2023-12-12T15:35:36.595701Z",
          "iopub.status.busy": "2023-12-12T15:35:36.594893Z",
          "iopub.status.idle": "2023-12-12T15:35:36.598582Z",
          "shell.execute_reply": "2023-12-12T15:35:36.598014Z",
          "shell.execute_reply.started": "2023-12-12T15:18:00.669725Z"
        },
        "papermill": {
          "duration": 0.18401,
          "end_time": "2023-12-12T15:35:36.598713",
          "exception": false,
          "start_time": "2023-12-12T15:35:36.414703",
          "status": "completed"
        },
        "tags": [],
        "colab": {
          "base_uri": "https://localhost:8080/",
          "height": 36
        },
        "id": "10c74871",
        "outputId": "65443bfe-9d1e-49f9-c0c4-b7f7c79b36b6"
      },
      "outputs": [
        {
          "output_type": "execute_result",
          "data": {
            "text/plain": [
              "'cannot'"
            ],
            "application/vnd.google.colaboratory.intrinsic+json": {
              "type": "string"
            }
          },
          "metadata": {},
          "execution_count": 13
        }
      ],
      "source": [
        "contractions.fix(\"can't\")"
      ]
    },
    {
      "cell_type": "code",
      "execution_count": 14,
      "id": "7bd5306c",
      "metadata": {
        "execution": {
          "iopub.execute_input": "2023-12-12T15:35:36.900319Z",
          "iopub.status.busy": "2023-12-12T15:35:36.899421Z",
          "iopub.status.idle": "2023-12-12T15:35:39.119592Z",
          "shell.execute_reply": "2023-12-12T15:35:39.118993Z",
          "shell.execute_reply.started": "2023-12-12T15:18:00.680000Z"
        },
        "papermill": {
          "duration": 2.372363,
          "end_time": "2023-12-12T15:35:39.119728",
          "exception": false,
          "start_time": "2023-12-12T15:35:36.747365",
          "status": "completed"
        },
        "tags": [],
        "id": "7bd5306c"
      },
      "outputs": [],
      "source": [
        "text = 'I loved my familys'\n",
        "words = word_tokenize(text)\n",
        "lemmatized_words = [lemmatizer.lemmatize(word) for word in words]"
      ]
    },
    {
      "cell_type": "code",
      "execution_count": 15,
      "id": "1a2f428b",
      "metadata": {
        "execution": {
          "iopub.execute_input": "2023-12-12T15:35:39.421189Z",
          "iopub.status.busy": "2023-12-12T15:35:39.420396Z",
          "iopub.status.idle": "2023-12-12T15:35:39.424166Z",
          "shell.execute_reply": "2023-12-12T15:35:39.423658Z",
          "shell.execute_reply.started": "2023-12-12T15:18:02.883254Z"
        },
        "papermill": {
          "duration": 0.156819,
          "end_time": "2023-12-12T15:35:39.424297",
          "exception": false,
          "start_time": "2023-12-12T15:35:39.267478",
          "status": "completed"
        },
        "tags": [],
        "colab": {
          "base_uri": "https://localhost:8080/"
        },
        "id": "1a2f428b",
        "outputId": "f4355c39-c8be-4fb5-d5fb-17c2bb411e06"
      },
      "outputs": [
        {
          "output_type": "execute_result",
          "data": {
            "text/plain": [
              "['I', 'loved', 'my', 'family']"
            ]
          },
          "metadata": {},
          "execution_count": 15
        }
      ],
      "source": [
        "lemmatized_words"
      ]
    },
    {
      "cell_type": "code",
      "execution_count": 16,
      "id": "58058248",
      "metadata": {
        "execution": {
          "iopub.execute_input": "2023-12-12T15:35:39.744391Z",
          "iopub.status.busy": "2023-12-12T15:35:39.740836Z",
          "iopub.status.idle": "2023-12-12T15:35:39.746995Z",
          "shell.execute_reply": "2023-12-12T15:35:39.746521Z",
          "shell.execute_reply.started": "2023-12-12T15:18:02.890705Z"
        },
        "id": "58058248",
        "papermill": {
          "duration": 0.173521,
          "end_time": "2023-12-12T15:35:39.747120",
          "exception": false,
          "start_time": "2023-12-12T15:35:39.573599",
          "status": "completed"
        },
        "tags": []
      },
      "outputs": [],
      "source": [
        "# Clean emojis from text\n",
        "def strip_emoji(text):\n",
        "    return emoji.get_emoji_regexp().sub(\"\", text)\n",
        "\n",
        "# Remove punctuations, stopwords, links, mentions and new line characters\n",
        "def strip_all_entities(text):\n",
        "    text = re.sub(r'\\r|\\n', ' ', text.lower())  # Replace newline and carriage return with space, and convert to lowercase\n",
        "    text = re.sub(r\"(?:\\@|https?\\://)\\S+\", \"\", text)  # Remove links and mentions\n",
        "    text = re.sub(r'[^\\x00-\\x7f]', '', text)  # Remove non-ASCII characters\n",
        "    banned_list = string.punctuation\n",
        "    table = str.maketrans('', '', banned_list)\n",
        "    text = text.translate(table)\n",
        "    text = ' '.join(word for word in text.split() if word not in stop_words)\n",
        "    return text\n",
        "\n",
        "# Clean hashtags at the end of the sentence, and keep those in the middle of the sentence by removing just the # symbol\n",
        "def clean_hashtags(tweet):\n",
        "    # Remove hashtags at the end of the sentence\n",
        "    new_tweet = re.sub(r'(\\s+#[\\w-]+)+\\s*$', '', tweet).strip()\n",
        "\n",
        "    # Remove the # symbol from hashtags in the middle of the sentence\n",
        "    new_tweet = re.sub(r'#([\\w-]+)', r'\\1', new_tweet).strip()\n",
        "\n",
        "    return new_tweet\n",
        "\n",
        "# Filter special characters such as & and $ present in some words\n",
        "def filter_chars(text):\n",
        "    return ' '.join('' if ('$' in word) or ('&' in word) else word for word in text.split())\n",
        "\n",
        "# Remove multiple spaces\n",
        "def remove_mult_spaces(text):\n",
        "    return re.sub(r\"\\s\\s+\", \" \", text)\n",
        "\n",
        "# Function to check if the text is in English, and return an empty string if it's not\n",
        "def filter_non_english(text):\n",
        "    try:\n",
        "        lang = detect(text)\n",
        "    except LangDetectException:\n",
        "        lang = \"unknown\"\n",
        "    return text if lang == \"en\" else \"\"\n",
        "\n",
        "# Expand contractions\n",
        "def expand_contractions(text):\n",
        "    return contractions.fix(text)\n",
        "\n",
        "# Remove numbers\n",
        "def remove_numbers(text):\n",
        "    return re.sub(r'\\d+', '', text)\n",
        "\n",
        "# Lemmatize words\n",
        "def lemmatize(text):\n",
        "    words = word_tokenize(text)\n",
        "    lemmatized_words = [lemmatizer.lemmatize(word) for word in words]\n",
        "    return ' '.join(lemmatized_words)\n",
        "\n",
        "# Remove short words\n",
        "def remove_short_words(text, min_len=2):\n",
        "    words = text.split()\n",
        "    long_words = [word for word in words if len(word) >= min_len]\n",
        "    return ' '.join(long_words)\n",
        "\n",
        "# Replace elongated words with their base form\n",
        "def replace_elongated_words(text):\n",
        "    regex_pattern = r'\\b(\\w+)((\\w)\\3{2,})(\\w*)\\b'\n",
        "    return re.sub(regex_pattern, r'\\1\\3\\4', text)\n",
        "\n",
        "# Remove repeated punctuation\n",
        "def remove_repeated_punctuation(text):\n",
        "    return re.sub(r'[\\?\\.\\!]+(?=[\\?\\.\\!])', '', text)\n",
        "\n",
        "# Remove extra whitespace\n",
        "def remove_extra_whitespace(text):\n",
        "    return ' '.join(text.split())\n",
        "\n",
        "def remove_url_shorteners(text):\n",
        "    return re.sub(r'(?:http[s]?://)?(?:www\\.)?(?:bit\\.ly|goo\\.gl|t\\.co|tinyurl\\.com|tr\\.im|is\\.gd|cli\\.gs|u\\.nu|url\\.ie|tiny\\.cc|alturl\\.com|ow\\.ly|bit\\.do|adoro\\.to)\\S+', '', text)\n",
        "\n",
        "# Remove spaces at the beginning and end of the tweet\n",
        "def remove_spaces_tweets(tweet):\n",
        "    return tweet.strip()\n",
        "\n",
        "# Remove short tweets\n",
        "def remove_short_tweets(tweet, min_words=3):\n",
        "    words = tweet.split()\n",
        "    return tweet if len(words) >= min_words else \"\"\n",
        "\n",
        "# Function to call all the cleaning functions in the correct order\n",
        "def clean_tweet(tweet):\n",
        "    tweet = strip_emoji(tweet)\n",
        "    tweet = expand_contractions(tweet)\n",
        "    tweet = filter_non_english(tweet)\n",
        "    tweet = strip_all_entities(tweet)\n",
        "    tweet = clean_hashtags(tweet)\n",
        "    tweet = filter_chars(tweet)\n",
        "    tweet = remove_mult_spaces(tweet)\n",
        "    tweet = remove_numbers(tweet)\n",
        "    tweet = lemmatize(tweet)\n",
        "    tweet = remove_short_words(tweet)\n",
        "    tweet = replace_elongated_words(tweet)\n",
        "    tweet = remove_repeated_punctuation(tweet)\n",
        "    tweet = remove_extra_whitespace(tweet)\n",
        "    tweet = remove_url_shorteners(tweet)\n",
        "    tweet = remove_spaces_tweets(tweet)\n",
        "    tweet = remove_short_tweets(tweet)\n",
        "    tweet = ' '.join(tweet.split())  # Remove multiple spaces between words\n",
        "    return tweet"
      ]
    },
    {
      "cell_type": "code",
      "execution_count": 17,
      "id": "5c2fc71d",
      "metadata": {
        "execution": {
          "iopub.execute_input": "2023-12-12T15:35:40.072252Z",
          "iopub.status.busy": "2023-12-12T15:35:40.051753Z",
          "iopub.status.idle": "2023-12-12T15:36:24.783222Z",
          "shell.execute_reply": "2023-12-12T15:36:24.783759Z",
          "shell.execute_reply.started": "2023-12-12T15:18:02.914000Z"
        },
        "papermill": {
          "duration": 44.886484,
          "end_time": "2023-12-12T15:36:24.783948",
          "exception": false,
          "start_time": "2023-12-12T15:35:39.897464",
          "status": "completed"
        },
        "tags": [],
        "id": "5c2fc71d"
      },
      "outputs": [],
      "source": [
        "import re\n",
        "\n",
        "# Function to remove emojis using demojize\n",
        "def remove_emoji(text):\n",
        "    return emoji.demojize(text, delimiters=(\"\", \"\"))\n",
        "\n",
        "# Function to remove entities like mentions, hashtags, and links\n",
        "def strip_all_entities(text):\n",
        "    text = re.sub(r'@[A-Za-z0-9_]+|#[A-Za-z0-9_]+|https?://[^ ]+', '', text)\n",
        "    return text\n",
        "\n",
        "# Function to clean hashtags\n",
        "def clean_hashtags(text):\n",
        "    text = re.sub(r'#', '', text)\n",
        "    return text\n",
        "\n",
        "# Function to remove multiple spaces\n",
        "def remove_mult_spaces(text):\n",
        "    return re.sub(r'\\s+', ' ', text).strip()\n",
        "\n",
        "# Function to remove short words (less than 3 characters)\n",
        "def remove_short_words(text):\n",
        "    return ' '.join(word for word in text.split() if len(word) > 2)\n",
        "\n",
        "# Function to remove short tweets (less than 10 characters)\n",
        "def remove_short_tweets(text):\n",
        "    if len(text) > 10:\n",
        "        return text\n",
        "    else:\n",
        "        return ''\n",
        "\n",
        "# Applying the defined functions to clean the 'text' column\n",
        "df['text_clean'] = df['text'].apply(remove_emoji)\n",
        "df['text_clean'] = df['text_clean'].apply(strip_all_entities)\n",
        "df['text_clean'] = df['text_clean'].apply(clean_hashtags)\n",
        "df['text_clean'] = df['text_clean'].apply(remove_mult_spaces)\n",
        "df['text_clean'] = df['text_clean'].apply(remove_short_words)\n",
        "df['text_clean'] = df['text_clean'].apply(remove_short_tweets)\n"
      ]
    },
    {
      "cell_type": "code",
      "execution_count": 18,
      "id": "1eff6ebd",
      "metadata": {
        "execution": {
          "iopub.execute_input": "2023-12-12T15:36:25.091896Z",
          "iopub.status.busy": "2023-12-12T15:36:25.091058Z",
          "iopub.status.idle": "2023-12-12T15:36:25.094663Z",
          "shell.execute_reply": "2023-12-12T15:36:25.094077Z",
          "shell.execute_reply.started": "2023-12-12T15:18:47.751791Z"
        },
        "papermill": {
          "duration": 0.161427,
          "end_time": "2023-12-12T15:36:25.094789",
          "exception": false,
          "start_time": "2023-12-12T15:36:24.933362",
          "status": "completed"
        },
        "tags": [],
        "colab": {
          "base_uri": "https://localhost:8080/",
          "height": 206
        },
        "id": "1eff6ebd",
        "outputId": "9e3f85c2-4b1a-4968-c86e-b33f26064b5e"
      },
      "outputs": [
        {
          "output_type": "execute_result",
          "data": {
            "text/plain": [
              "                                                text          sentiment  \\\n",
              "0  In other words #katandandre, your food was cra...  not_cyberbullying   \n",
              "1  Why is #aussietv so white? #MKR #theblock #ImA...  not_cyberbullying   \n",
              "2  @XochitlSuckkks a classy whore? Or more red ve...  not_cyberbullying   \n",
              "3  @Jason_Gio meh. :P  thanks for the heads up, b...  not_cyberbullying   \n",
              "4  @RudhoeEnglish This is an ISIS account pretend...  not_cyberbullying   \n",
              "\n",
              "                                          text_clean  \n",
              "0            other words your food was crapilicious!  \n",
              "1                                                     \n",
              "2            classy whore? more red velvet cupcakes?  \n",
              "3  meh. thanks for the heads up, but not too conc...  \n",
              "4  This ISIS account pretending Kurdish account. ...  "
            ],
            "text/html": [
              "\n",
              "  <div id=\"df-50a98afa-d8dd-41a6-ae03-6105422b0375\" class=\"colab-df-container\">\n",
              "    <div>\n",
              "<style scoped>\n",
              "    .dataframe tbody tr th:only-of-type {\n",
              "        vertical-align: middle;\n",
              "    }\n",
              "\n",
              "    .dataframe tbody tr th {\n",
              "        vertical-align: top;\n",
              "    }\n",
              "\n",
              "    .dataframe thead th {\n",
              "        text-align: right;\n",
              "    }\n",
              "</style>\n",
              "<table border=\"1\" class=\"dataframe\">\n",
              "  <thead>\n",
              "    <tr style=\"text-align: right;\">\n",
              "      <th></th>\n",
              "      <th>text</th>\n",
              "      <th>sentiment</th>\n",
              "      <th>text_clean</th>\n",
              "    </tr>\n",
              "  </thead>\n",
              "  <tbody>\n",
              "    <tr>\n",
              "      <th>0</th>\n",
              "      <td>In other words #katandandre, your food was cra...</td>\n",
              "      <td>not_cyberbullying</td>\n",
              "      <td>other words your food was crapilicious!</td>\n",
              "    </tr>\n",
              "    <tr>\n",
              "      <th>1</th>\n",
              "      <td>Why is #aussietv so white? #MKR #theblock #ImA...</td>\n",
              "      <td>not_cyberbullying</td>\n",
              "      <td></td>\n",
              "    </tr>\n",
              "    <tr>\n",
              "      <th>2</th>\n",
              "      <td>@XochitlSuckkks a classy whore? Or more red ve...</td>\n",
              "      <td>not_cyberbullying</td>\n",
              "      <td>classy whore? more red velvet cupcakes?</td>\n",
              "    </tr>\n",
              "    <tr>\n",
              "      <th>3</th>\n",
              "      <td>@Jason_Gio meh. :P  thanks for the heads up, b...</td>\n",
              "      <td>not_cyberbullying</td>\n",
              "      <td>meh. thanks for the heads up, but not too conc...</td>\n",
              "    </tr>\n",
              "    <tr>\n",
              "      <th>4</th>\n",
              "      <td>@RudhoeEnglish This is an ISIS account pretend...</td>\n",
              "      <td>not_cyberbullying</td>\n",
              "      <td>This ISIS account pretending Kurdish account. ...</td>\n",
              "    </tr>\n",
              "  </tbody>\n",
              "</table>\n",
              "</div>\n",
              "    <div class=\"colab-df-buttons\">\n",
              "\n",
              "  <div class=\"colab-df-container\">\n",
              "    <button class=\"colab-df-convert\" onclick=\"convertToInteractive('df-50a98afa-d8dd-41a6-ae03-6105422b0375')\"\n",
              "            title=\"Convert this dataframe to an interactive table.\"\n",
              "            style=\"display:none;\">\n",
              "\n",
              "  <svg xmlns=\"http://www.w3.org/2000/svg\" height=\"24px\" viewBox=\"0 -960 960 960\">\n",
              "    <path d=\"M120-120v-720h720v720H120Zm60-500h600v-160H180v160Zm220 220h160v-160H400v160Zm0 220h160v-160H400v160ZM180-400h160v-160H180v160Zm440 0h160v-160H620v160ZM180-180h160v-160H180v160Zm440 0h160v-160H620v160Z\"/>\n",
              "  </svg>\n",
              "    </button>\n",
              "\n",
              "  <style>\n",
              "    .colab-df-container {\n",
              "      display:flex;\n",
              "      gap: 12px;\n",
              "    }\n",
              "\n",
              "    .colab-df-convert {\n",
              "      background-color: #E8F0FE;\n",
              "      border: none;\n",
              "      border-radius: 50%;\n",
              "      cursor: pointer;\n",
              "      display: none;\n",
              "      fill: #1967D2;\n",
              "      height: 32px;\n",
              "      padding: 0 0 0 0;\n",
              "      width: 32px;\n",
              "    }\n",
              "\n",
              "    .colab-df-convert:hover {\n",
              "      background-color: #E2EBFA;\n",
              "      box-shadow: 0px 1px 2px rgba(60, 64, 67, 0.3), 0px 1px 3px 1px rgba(60, 64, 67, 0.15);\n",
              "      fill: #174EA6;\n",
              "    }\n",
              "\n",
              "    .colab-df-buttons div {\n",
              "      margin-bottom: 4px;\n",
              "    }\n",
              "\n",
              "    [theme=dark] .colab-df-convert {\n",
              "      background-color: #3B4455;\n",
              "      fill: #D2E3FC;\n",
              "    }\n",
              "\n",
              "    [theme=dark] .colab-df-convert:hover {\n",
              "      background-color: #434B5C;\n",
              "      box-shadow: 0px 1px 3px 1px rgba(0, 0, 0, 0.15);\n",
              "      filter: drop-shadow(0px 1px 2px rgba(0, 0, 0, 0.3));\n",
              "      fill: #FFFFFF;\n",
              "    }\n",
              "  </style>\n",
              "\n",
              "    <script>\n",
              "      const buttonEl =\n",
              "        document.querySelector('#df-50a98afa-d8dd-41a6-ae03-6105422b0375 button.colab-df-convert');\n",
              "      buttonEl.style.display =\n",
              "        google.colab.kernel.accessAllowed ? 'block' : 'none';\n",
              "\n",
              "      async function convertToInteractive(key) {\n",
              "        const element = document.querySelector('#df-50a98afa-d8dd-41a6-ae03-6105422b0375');\n",
              "        const dataTable =\n",
              "          await google.colab.kernel.invokeFunction('convertToInteractive',\n",
              "                                                    [key], {});\n",
              "        if (!dataTable) return;\n",
              "\n",
              "        const docLinkHtml = 'Like what you see? Visit the ' +\n",
              "          '<a target=\"_blank\" href=https://colab.research.google.com/notebooks/data_table.ipynb>data table notebook</a>'\n",
              "          + ' to learn more about interactive tables.';\n",
              "        element.innerHTML = '';\n",
              "        dataTable['output_type'] = 'display_data';\n",
              "        await google.colab.output.renderOutput(dataTable, element);\n",
              "        const docLink = document.createElement('div');\n",
              "        docLink.innerHTML = docLinkHtml;\n",
              "        element.appendChild(docLink);\n",
              "      }\n",
              "    </script>\n",
              "  </div>\n",
              "\n",
              "\n",
              "<div id=\"df-021a83a3-87a5-48ad-9fde-e698c11318f8\">\n",
              "  <button class=\"colab-df-quickchart\" onclick=\"quickchart('df-021a83a3-87a5-48ad-9fde-e698c11318f8')\"\n",
              "            title=\"Suggest charts\"\n",
              "            style=\"display:none;\">\n",
              "\n",
              "<svg xmlns=\"http://www.w3.org/2000/svg\" height=\"24px\"viewBox=\"0 0 24 24\"\n",
              "     width=\"24px\">\n",
              "    <g>\n",
              "        <path d=\"M19 3H5c-1.1 0-2 .9-2 2v14c0 1.1.9 2 2 2h14c1.1 0 2-.9 2-2V5c0-1.1-.9-2-2-2zM9 17H7v-7h2v7zm4 0h-2V7h2v10zm4 0h-2v-4h2v4z\"/>\n",
              "    </g>\n",
              "</svg>\n",
              "  </button>\n",
              "\n",
              "<style>\n",
              "  .colab-df-quickchart {\n",
              "      --bg-color: #E8F0FE;\n",
              "      --fill-color: #1967D2;\n",
              "      --hover-bg-color: #E2EBFA;\n",
              "      --hover-fill-color: #174EA6;\n",
              "      --disabled-fill-color: #AAA;\n",
              "      --disabled-bg-color: #DDD;\n",
              "  }\n",
              "\n",
              "  [theme=dark] .colab-df-quickchart {\n",
              "      --bg-color: #3B4455;\n",
              "      --fill-color: #D2E3FC;\n",
              "      --hover-bg-color: #434B5C;\n",
              "      --hover-fill-color: #FFFFFF;\n",
              "      --disabled-bg-color: #3B4455;\n",
              "      --disabled-fill-color: #666;\n",
              "  }\n",
              "\n",
              "  .colab-df-quickchart {\n",
              "    background-color: var(--bg-color);\n",
              "    border: none;\n",
              "    border-radius: 50%;\n",
              "    cursor: pointer;\n",
              "    display: none;\n",
              "    fill: var(--fill-color);\n",
              "    height: 32px;\n",
              "    padding: 0;\n",
              "    width: 32px;\n",
              "  }\n",
              "\n",
              "  .colab-df-quickchart:hover {\n",
              "    background-color: var(--hover-bg-color);\n",
              "    box-shadow: 0 1px 2px rgba(60, 64, 67, 0.3), 0 1px 3px 1px rgba(60, 64, 67, 0.15);\n",
              "    fill: var(--button-hover-fill-color);\n",
              "  }\n",
              "\n",
              "  .colab-df-quickchart-complete:disabled,\n",
              "  .colab-df-quickchart-complete:disabled:hover {\n",
              "    background-color: var(--disabled-bg-color);\n",
              "    fill: var(--disabled-fill-color);\n",
              "    box-shadow: none;\n",
              "  }\n",
              "\n",
              "  .colab-df-spinner {\n",
              "    border: 2px solid var(--fill-color);\n",
              "    border-color: transparent;\n",
              "    border-bottom-color: var(--fill-color);\n",
              "    animation:\n",
              "      spin 1s steps(1) infinite;\n",
              "  }\n",
              "\n",
              "  @keyframes spin {\n",
              "    0% {\n",
              "      border-color: transparent;\n",
              "      border-bottom-color: var(--fill-color);\n",
              "      border-left-color: var(--fill-color);\n",
              "    }\n",
              "    20% {\n",
              "      border-color: transparent;\n",
              "      border-left-color: var(--fill-color);\n",
              "      border-top-color: var(--fill-color);\n",
              "    }\n",
              "    30% {\n",
              "      border-color: transparent;\n",
              "      border-left-color: var(--fill-color);\n",
              "      border-top-color: var(--fill-color);\n",
              "      border-right-color: var(--fill-color);\n",
              "    }\n",
              "    40% {\n",
              "      border-color: transparent;\n",
              "      border-right-color: var(--fill-color);\n",
              "      border-top-color: var(--fill-color);\n",
              "    }\n",
              "    60% {\n",
              "      border-color: transparent;\n",
              "      border-right-color: var(--fill-color);\n",
              "    }\n",
              "    80% {\n",
              "      border-color: transparent;\n",
              "      border-right-color: var(--fill-color);\n",
              "      border-bottom-color: var(--fill-color);\n",
              "    }\n",
              "    90% {\n",
              "      border-color: transparent;\n",
              "      border-bottom-color: var(--fill-color);\n",
              "    }\n",
              "  }\n",
              "</style>\n",
              "\n",
              "  <script>\n",
              "    async function quickchart(key) {\n",
              "      const quickchartButtonEl =\n",
              "        document.querySelector('#' + key + ' button');\n",
              "      quickchartButtonEl.disabled = true;  // To prevent multiple clicks.\n",
              "      quickchartButtonEl.classList.add('colab-df-spinner');\n",
              "      try {\n",
              "        const charts = await google.colab.kernel.invokeFunction(\n",
              "            'suggestCharts', [key], {});\n",
              "      } catch (error) {\n",
              "        console.error('Error during call to suggestCharts:', error);\n",
              "      }\n",
              "      quickchartButtonEl.classList.remove('colab-df-spinner');\n",
              "      quickchartButtonEl.classList.add('colab-df-quickchart-complete');\n",
              "    }\n",
              "    (() => {\n",
              "      let quickchartButtonEl =\n",
              "        document.querySelector('#df-021a83a3-87a5-48ad-9fde-e698c11318f8 button');\n",
              "      quickchartButtonEl.style.display =\n",
              "        google.colab.kernel.accessAllowed ? 'block' : 'none';\n",
              "    })();\n",
              "  </script>\n",
              "</div>\n",
              "\n",
              "    </div>\n",
              "  </div>\n"
            ]
          },
          "metadata": {},
          "execution_count": 18
        }
      ],
      "source": [
        "df.head()"
      ]
    },
    {
      "cell_type": "code",
      "execution_count": 19,
      "id": "07ef377e",
      "metadata": {
        "execution": {
          "iopub.execute_input": "2023-12-12T15:36:25.710668Z",
          "iopub.status.busy": "2023-12-12T15:36:25.709803Z",
          "iopub.status.idle": "2023-12-12T15:36:25.713565Z",
          "shell.execute_reply": "2023-12-12T15:36:25.712948Z",
          "shell.execute_reply.started": "2023-12-12T15:18:47.763735Z"
        },
        "papermill": {
          "duration": 0.170433,
          "end_time": "2023-12-12T15:36:25.713691",
          "exception": false,
          "start_time": "2023-12-12T15:36:25.543258",
          "status": "completed"
        },
        "tags": [],
        "colab": {
          "base_uri": "https://localhost:8080/"
        },
        "id": "07ef377e",
        "outputId": "d4eca96d-dbb9-4c7c-cb8b-19e12c06491e"
      },
      "outputs": [
        {
          "output_type": "stream",
          "name": "stdout",
          "text": [
            "There are around 3341 duplicated tweets, we will remove them.\n"
          ]
        }
      ],
      "source": [
        "print(f'There are around {int(df[\"text_clean\"].duplicated().sum())} duplicated tweets, we will remove them.')"
      ]
    },
    {
      "cell_type": "code",
      "execution_count": 20,
      "id": "dd1519b3",
      "metadata": {
        "execution": {
          "iopub.execute_input": "2023-12-12T15:36:26.024303Z",
          "iopub.status.busy": "2023-12-12T15:36:26.020915Z",
          "iopub.status.idle": "2023-12-12T15:36:26.045239Z",
          "shell.execute_reply": "2023-12-12T15:36:26.044704Z",
          "shell.execute_reply.started": "2023-12-12T15:18:47.787568Z"
        },
        "papermill": {
          "duration": 0.180378,
          "end_time": "2023-12-12T15:36:26.045381",
          "exception": false,
          "start_time": "2023-12-12T15:36:25.865003",
          "status": "completed"
        },
        "tags": [],
        "id": "dd1519b3"
      },
      "outputs": [],
      "source": [
        "df.drop_duplicates(\"text_clean\", inplace=True)"
      ]
    },
    {
      "cell_type": "code",
      "execution_count": 21,
      "id": "3d62b873",
      "metadata": {
        "execution": {
          "iopub.execute_input": "2023-12-12T15:36:26.673942Z",
          "iopub.status.busy": "2023-12-12T15:36:26.673154Z",
          "iopub.status.idle": "2023-12-12T15:36:26.676687Z",
          "shell.execute_reply": "2023-12-12T15:36:26.676105Z",
          "shell.execute_reply.started": "2023-12-12T15:18:47.821363Z"
        },
        "papermill": {
          "duration": 0.16268,
          "end_time": "2023-12-12T15:36:26.676810",
          "exception": false,
          "start_time": "2023-12-12T15:36:26.514130",
          "status": "completed"
        },
        "tags": [],
        "colab": {
          "base_uri": "https://localhost:8080/"
        },
        "id": "3d62b873",
        "outputId": "932dc5d8-4e08-4890-9b6e-d9002fc1c30c"
      },
      "outputs": [
        {
          "output_type": "execute_result",
          "data": {
            "text/plain": [
              "religion               7961\n",
              "age                    7951\n",
              "ethnicity              7859\n",
              "gender                 7540\n",
              "not_cyberbullying      7373\n",
              "other_cyberbullying    5631\n",
              "Name: sentiment, dtype: int64"
            ]
          },
          "metadata": {},
          "execution_count": 21
        }
      ],
      "source": [
        "df.sentiment.value_counts()"
      ]
    },
    {
      "cell_type": "code",
      "execution_count": 22,
      "id": "08f9d0be",
      "metadata": {
        "execution": {
          "iopub.execute_input": "2023-12-12T15:36:27.333480Z",
          "iopub.status.busy": "2023-12-12T15:36:27.332716Z",
          "iopub.status.idle": "2023-12-12T15:36:27.335222Z",
          "shell.execute_reply": "2023-12-12T15:36:27.334609Z",
          "shell.execute_reply.started": "2023-12-12T15:18:47.835090Z"
        },
        "papermill": {
          "duration": 0.157174,
          "end_time": "2023-12-12T15:36:27.335345",
          "exception": false,
          "start_time": "2023-12-12T15:36:27.178171",
          "status": "completed"
        },
        "tags": [],
        "id": "08f9d0be"
      },
      "outputs": [],
      "source": [
        "sentiments = [\"religion\",\"age\",\"ethnicity\",\"gender\",\"other_cyberbullying\",\"not bullying\"]"
      ]
    },
    {
      "cell_type": "code",
      "execution_count": 23,
      "id": "159804e9",
      "metadata": {
        "execution": {
          "iopub.execute_input": "2023-12-12T15:36:28.251277Z",
          "iopub.status.busy": "2023-12-12T15:36:28.246144Z",
          "iopub.status.idle": "2023-12-12T15:36:28.312570Z",
          "shell.execute_reply": "2023-12-12T15:36:28.312074Z",
          "shell.execute_reply.started": "2023-12-12T15:18:47.844153Z"
        },
        "id": "159804e9",
        "papermill": {
          "duration": 0.224297,
          "end_time": "2023-12-12T15:36:28.312702",
          "exception": false,
          "start_time": "2023-12-12T15:36:28.088405",
          "status": "completed"
        },
        "tags": []
      },
      "outputs": [],
      "source": [
        "df['text_len'] = [len(text.split()) for text in df.text_clean]"
      ]
    },
    {
      "cell_type": "code",
      "execution_count": 24,
      "id": "40c5d846",
      "metadata": {
        "_kg_hide-input": true,
        "execution": {
          "iopub.execute_input": "2023-12-12T15:36:28.619464Z",
          "iopub.status.busy": "2023-12-12T15:36:28.618782Z",
          "iopub.status.idle": "2023-12-12T15:36:28.927385Z",
          "shell.execute_reply": "2023-12-12T15:36:28.927908Z",
          "shell.execute_reply.started": "2023-12-12T15:18:47.917580Z"
        },
        "id": "40c5d846",
        "outputId": "c94291c9-72ee-4b6e-9a79-dd3652e089b1",
        "papermill": {
          "duration": 0.464644,
          "end_time": "2023-12-12T15:36:28.928074",
          "exception": false,
          "start_time": "2023-12-12T15:36:28.463430",
          "status": "completed"
        },
        "tags": [],
        "colab": {
          "base_uri": "https://localhost:8080/",
          "height": 506
        }
      },
      "outputs": [
        {
          "output_type": "display_data",
          "data": {
            "text/plain": [
              "<Figure size 700x500 with 1 Axes>"
            ],
            "image/png": "[encoded data removed]"
          },
          "metadata": {}
        }
      ],
      "source": [
        "plt.figure(figsize=(7,5))\n",
        "ax = sns.countplot(x='text_len', data=df[df['text_len']<10], palette='mako')\n",
        "plt.title('Count of tweets with less than 10 words', fontsize=20)\n",
        "plt.yticks([])\n",
        "ax.bar_label(ax.containers[0])\n",
        "plt.ylabel('count')\n",
        "plt.xlabel('')\n",
        "plt.show()"
      ]
    },
    {
      "cell_type": "code",
      "execution_count": 25,
      "id": "d2dcbd53",
      "metadata": {
        "execution": {
          "iopub.execute_input": "2023-12-12T15:36:29.555505Z",
          "iopub.status.busy": "2023-12-12T15:36:29.554794Z",
          "iopub.status.idle": "2023-12-12T15:36:29.573319Z",
          "shell.execute_reply": "2023-12-12T15:36:29.572822Z",
          "shell.execute_reply.started": "2023-12-12T15:18:48.233881Z"
        },
        "id": "d2dcbd53",
        "outputId": "9df8fd8e-4e18-45b9-875e-245e89db771e",
        "papermill": {
          "duration": 0.175803,
          "end_time": "2023-12-12T15:36:29.573469",
          "exception": false,
          "start_time": "2023-12-12T15:36:29.397666",
          "status": "completed"
        },
        "tags": [],
        "colab": {
          "base_uri": "https://localhost:8080/",
          "height": 423
        }
      },
      "outputs": [
        {
          "output_type": "execute_result",
          "data": {
            "text/plain": [
              "                                                    text            sentiment  \\\n",
              "29205  is feminazi an actual word with a denot…\\r\\n@N...  other_cyberbullying   \n",
              "24516  @NICKIMINAJ: #WutKinda\\r\\nAt this rate the MKR...  other_cyberbullying   \n",
              "30752  I don't retreat.\\r\\nyessssssss http://t.co/Td9...  other_cyberbullying   \n",
              "44035  You so black and white trying to live like a n...            ethnicity   \n",
              "33724  ... I don't feel guilty for killing him, I jus...                  age   \n",
              "...                                                  ...                  ...   \n",
              "3038                    @informationchef @dannyo152 ❤️❤️    not_cyberbullying   \n",
              "10282                                    Feminazi.....xD               gender   \n",
              "7001                                        bully,,bully    not_cyberbullying   \n",
              "28855                                                  💩  other_cyberbullying   \n",
              "1      Why is #aussietv so white? #MKR #theblock #ImA...    not_cyberbullying   \n",
              "\n",
              "                                              text_clean  text_len  \n",
              "29205  feminazi actual word with denot… job means pro...       553  \n",
              "24516  this rate the MKR final will December haha, ho...       497  \n",
              "30752  don't retreat. yessssssss Why they not make th...       363  \n",
              "44035  You black and white trying live like nigger......       243  \n",
              "33724  ... don't feel guilty for killing him, just fe...       220  \n",
              "...                                                  ...       ...  \n",
              "3038                                  red_heartred_heart         1  \n",
              "10282                                    Feminazi.....xD         1  \n",
              "7001                                        bully,,bully         1  \n",
              "28855                                        pile_of_poo         1  \n",
              "1                                                                0  \n",
              "\n",
              "[44315 rows x 4 columns]"
            ],
            "text/html": [
              "\n",
              "  <div id=\"df-5f37744e-4f6b-46e9-8072-b662c785ec97\" class=\"colab-df-container\">\n",
              "    <div>\n",
              "<style scoped>\n",
              "    .dataframe tbody tr th:only-of-type {\n",
              "        vertical-align: middle;\n",
              "    }\n",
              "\n",
              "    .dataframe tbody tr th {\n",
              "        vertical-align: top;\n",
              "    }\n",
              "\n",
              "    .dataframe thead th {\n",
              "        text-align: right;\n",
              "    }\n",
              "</style>\n",
              "<table border=\"1\" class=\"dataframe\">\n",
              "  <thead>\n",
              "    <tr style=\"text-align: right;\">\n",
              "      <th></th>\n",
              "      <th>text</th>\n",
              "      <th>sentiment</th>\n",
              "      <th>text_clean</th>\n",
              "      <th>text_len</th>\n",
              "    </tr>\n",
              "  </thead>\n",
              "  <tbody>\n",
              "    <tr>\n",
              "      <th>29205</th>\n",
              "      <td>is feminazi an actual word with a denot…\\r\\n@N...</td>\n",
              "      <td>other_cyberbullying</td>\n",
              "      <td>feminazi actual word with denot… job means pro...</td>\n",
              "      <td>553</td>\n",
              "    </tr>\n",
              "    <tr>\n",
              "      <th>24516</th>\n",
              "      <td>@NICKIMINAJ: #WutKinda\\r\\nAt this rate the MKR...</td>\n",
              "      <td>other_cyberbullying</td>\n",
              "      <td>this rate the MKR final will December haha, ho...</td>\n",
              "      <td>497</td>\n",
              "    </tr>\n",
              "    <tr>\n",
              "      <th>30752</th>\n",
              "      <td>I don't retreat.\\r\\nyessssssss http://t.co/Td9...</td>\n",
              "      <td>other_cyberbullying</td>\n",
              "      <td>don't retreat. yessssssss Why they not make th...</td>\n",
              "      <td>363</td>\n",
              "    </tr>\n",
              "    <tr>\n",
              "      <th>44035</th>\n",
              "      <td>You so black and white trying to live like a n...</td>\n",
              "      <td>ethnicity</td>\n",
              "      <td>You black and white trying live like nigger......</td>\n",
              "      <td>243</td>\n",
              "    </tr>\n",
              "    <tr>\n",
              "      <th>33724</th>\n",
              "      <td>... I don't feel guilty for killing him, I jus...</td>\n",
              "      <td>age</td>\n",
              "      <td>... don't feel guilty for killing him, just fe...</td>\n",
              "      <td>220</td>\n",
              "    </tr>\n",
              "    <tr>\n",
              "      <th>...</th>\n",
              "      <td>...</td>\n",
              "      <td>...</td>\n",
              "      <td>...</td>\n",
              "      <td>...</td>\n",
              "    </tr>\n",
              "    <tr>\n",
              "      <th>3038</th>\n",
              "      <td>@informationchef @dannyo152 ❤️❤️</td>\n",
              "      <td>not_cyberbullying</td>\n",
              "      <td>red_heartred_heart</td>\n",
              "      <td>1</td>\n",
              "    </tr>\n",
              "    <tr>\n",
              "      <th>10282</th>\n",
              "      <td>Feminazi.....xD</td>\n",
              "      <td>gender</td>\n",
              "      <td>Feminazi.....xD</td>\n",
              "      <td>1</td>\n",
              "    </tr>\n",
              "    <tr>\n",
              "      <th>7001</th>\n",
              "      <td>bully,,bully</td>\n",
              "      <td>not_cyberbullying</td>\n",
              "      <td>bully,,bully</td>\n",
              "      <td>1</td>\n",
              "    </tr>\n",
              "    <tr>\n",
              "      <th>28855</th>\n",
              "      <td>💩</td>\n",
              "      <td>other_cyberbullying</td>\n",
              "      <td>pile_of_poo</td>\n",
              "      <td>1</td>\n",
              "    </tr>\n",
              "    <tr>\n",
              "      <th>1</th>\n",
              "      <td>Why is #aussietv so white? #MKR #theblock #ImA...</td>\n",
              "      <td>not_cyberbullying</td>\n",
              "      <td></td>\n",
              "      <td>0</td>\n",
              "    </tr>\n",
              "  </tbody>\n",
              "</table>\n",
              "<p>44315 rows × 4 columns</p>\n",
              "</div>\n",
              "    <div class=\"colab-df-buttons\">\n",
              "\n",
              "  <div class=\"colab-df-container\">\n",
              "    <button class=\"colab-df-convert\" onclick=\"convertToInteractive('df-5f37744e-4f6b-46e9-8072-b662c785ec97')\"\n",
              "            title=\"Convert this dataframe to an interactive table.\"\n",
              "            style=\"display:none;\">\n",
              "\n",
              "  <svg xmlns=\"http://www.w3.org/2000/svg\" height=\"24px\" viewBox=\"0 -960 960 960\">\n",
              "    <path d=\"M120-120v-720h720v720H120Zm60-500h600v-160H180v160Zm220 220h160v-160H400v160Zm0 220h160v-160H400v160ZM180-400h160v-160H180v160Zm440 0h160v-160H620v160ZM180-180h160v-160H180v160Zm440 0h160v-160H620v160Z\"/>\n",
              "  </svg>\n",
              "    </button>\n",
              "\n",
              "  <style>\n",
              "    .colab-df-container {\n",
              "      display:flex;\n",
              "      gap: 12px;\n",
              "    }\n",
              "\n",
              "    .colab-df-convert {\n",
              "      background-color: #E8F0FE;\n",
              "      border: none;\n",
              "      border-radius: 50%;\n",
              "      cursor: pointer;\n",
              "      display: none;\n",
              "      fill: #1967D2;\n",
              "      height: 32px;\n",
              "      padding: 0 0 0 0;\n",
              "      width: 32px;\n",
              "    }\n",
              "\n",
              "    .colab-df-convert:hover {\n",
              "      background-color: #E2EBFA;\n",
              "      box-shadow: 0px 1px 2px rgba(60, 64, 67, 0.3), 0px 1px 3px 1px rgba(60, 64, 67, 0.15);\n",
              "      fill: #174EA6;\n",
              "    }\n",
              "\n",
              "    .colab-df-buttons div {\n",
              "      margin-bottom: 4px;\n",
              "    }\n",
              "\n",
              "    [theme=dark] .colab-df-convert {\n",
              "      background-color: #3B4455;\n",
              "      fill: #D2E3FC;\n",
              "    }\n",
              "\n",
              "    [theme=dark] .colab-df-convert:hover {\n",
              "      background-color: #434B5C;\n",
              "      box-shadow: 0px 1px 3px 1px rgba(0, 0, 0, 0.15);\n",
              "      filter: drop-shadow(0px 1px 2px rgba(0, 0, 0, 0.3));\n",
              "      fill: #FFFFFF;\n",
              "    }\n",
              "  </style>\n",
              "\n",
              "    <script>\n",
              "      const buttonEl =\n",
              "        document.querySelector('#df-5f37744e-4f6b-46e9-8072-b662c785ec97 button.colab-df-convert');\n",
              "      buttonEl.style.display =\n",
              "        google.colab.kernel.accessAllowed ? 'block' : 'none';\n",
              "\n",
              "      async function convertToInteractive(key) {\n",
              "        const element = document.querySelector('#df-5f37744e-4f6b-46e9-8072-b662c785ec97');\n",
              "        const dataTable =\n",
              "          await google.colab.kernel.invokeFunction('convertToInteractive',\n",
              "                                                    [key], {});\n",
              "        if (!dataTable) return;\n",
              "\n",
              "        const docLinkHtml = 'Like what you see? Visit the ' +\n",
              "          '<a target=\"_blank\" href=https://colab.research.google.com/notebooks/data_table.ipynb>data table notebook</a>'\n",
              "          + ' to learn more about interactive tables.';\n",
              "        element.innerHTML = '';\n",
              "        dataTable['output_type'] = 'display_data';\n",
              "        await google.colab.output.renderOutput(dataTable, element);\n",
              "        const docLink = document.createElement('div');\n",
              "        docLink.innerHTML = docLinkHtml;\n",
              "        element.appendChild(docLink);\n",
              "      }\n",
              "    </script>\n",
              "  </div>\n",
              "\n",
              "\n",
              "<div id=\"df-bfff2c28-a8fc-433a-910a-7f7e11645277\">\n",
              "  <button class=\"colab-df-quickchart\" onclick=\"quickchart('df-bfff2c28-a8fc-433a-910a-7f7e11645277')\"\n",
              "            title=\"Suggest charts\"\n",
              "            style=\"display:none;\">\n",
              "\n",
              "<svg xmlns=\"http://www.w3.org/2000/svg\" height=\"24px\"viewBox=\"0 0 24 24\"\n",
              "     width=\"24px\">\n",
              "    <g>\n",
              "        <path d=\"M19 3H5c-1.1 0-2 .9-2 2v14c0 1.1.9 2 2 2h14c1.1 0 2-.9 2-2V5c0-1.1-.9-2-2-2zM9 17H7v-7h2v7zm4 0h-2V7h2v10zm4 0h-2v-4h2v4z\"/>\n",
              "    </g>\n",
              "</svg>\n",
              "  </button>\n",
              "\n",
              "<style>\n",
              "  .colab-df-quickchart {\n",
              "      --bg-color: #E8F0FE;\n",
              "      --fill-color: #1967D2;\n",
              "      --hover-bg-color: #E2EBFA;\n",
              "      --hover-fill-color: #174EA6;\n",
              "      --disabled-fill-color: #AAA;\n",
              "      --disabled-bg-color: #DDD;\n",
              "  }\n",
              "\n",
              "  [theme=dark] .colab-df-quickchart {\n",
              "      --bg-color: #3B4455;\n",
              "      --fill-color: #D2E3FC;\n",
              "      --hover-bg-color: #434B5C;\n",
              "      --hover-fill-color: #FFFFFF;\n",
              "      --disabled-bg-color: #3B4455;\n",
              "      --disabled-fill-color: #666;\n",
              "  }\n",
              "\n",
              "  .colab-df-quickchart {\n",
              "    background-color: var(--bg-color);\n",
              "    border: none;\n",
              "    border-radius: 50%;\n",
              "    cursor: pointer;\n",
              "    display: none;\n",
              "    fill: var(--fill-color);\n",
              "    height: 32px;\n",
              "    padding: 0;\n",
              "    width: 32px;\n",
              "  }\n",
              "\n",
              "  .colab-df-quickchart:hover {\n",
              "    background-color: var(--hover-bg-color);\n",
              "    box-shadow: 0 1px 2px rgba(60, 64, 67, 0.3), 0 1px 3px 1px rgba(60, 64, 67, 0.15);\n",
              "    fill: var(--button-hover-fill-color);\n",
              "  }\n",
              "\n",
              "  .colab-df-quickchart-complete:disabled,\n",
              "  .colab-df-quickchart-complete:disabled:hover {\n",
              "    background-color: var(--disabled-bg-color);\n",
              "    fill: var(--disabled-fill-color);\n",
              "    box-shadow: none;\n",
              "  }\n",
              "\n",
              "  .colab-df-spinner {\n",
              "    border: 2px solid var(--fill-color);\n",
              "    border-color: transparent;\n",
              "    border-bottom-color: var(--fill-color);\n",
              "    animation:\n",
              "      spin 1s steps(1) infinite;\n",
              "  }\n",
              "\n",
              "  @keyframes spin {\n",
              "    0% {\n",
              "      border-color: transparent;\n",
              "      border-bottom-color: var(--fill-color);\n",
              "      border-left-color: var(--fill-color);\n",
              "    }\n",
              "    20% {\n",
              "      border-color: transparent;\n",
              "      border-left-color: var(--fill-color);\n",
              "      border-top-color: var(--fill-color);\n",
              "    }\n",
              "    30% {\n",
              "      border-color: transparent;\n",
              "      border-left-color: var(--fill-color);\n",
              "      border-top-color: var(--fill-color);\n",
              "      border-right-color: var(--fill-color);\n",
              "    }\n",
              "    40% {\n",
              "      border-color: transparent;\n",
              "      border-right-color: var(--fill-color);\n",
              "      border-top-color: var(--fill-color);\n",
              "    }\n",
              "    60% {\n",
              "      border-color: transparent;\n",
              "      border-right-color: var(--fill-color);\n",
              "    }\n",
              "    80% {\n",
              "      border-color: transparent;\n",
              "      border-right-color: var(--fill-color);\n",
              "      border-bottom-color: var(--fill-color);\n",
              "    }\n",
              "    90% {\n",
              "      border-color: transparent;\n",
              "      border-bottom-color: var(--fill-color);\n",
              "    }\n",
              "  }\n",
              "</style>\n",
              "\n",
              "  <script>\n",
              "    async function quickchart(key) {\n",
              "      const quickchartButtonEl =\n",
              "        document.querySelector('#' + key + ' button');\n",
              "      quickchartButtonEl.disabled = true;  // To prevent multiple clicks.\n",
              "      quickchartButtonEl.classList.add('colab-df-spinner');\n",
              "      try {\n",
              "        const charts = await google.colab.kernel.invokeFunction(\n",
              "            'suggestCharts', [key], {});\n",
              "      } catch (error) {\n",
              "        console.error('Error during call to suggestCharts:', error);\n",
              "      }\n",
              "      quickchartButtonEl.classList.remove('colab-df-spinner');\n",
              "      quickchartButtonEl.classList.add('colab-df-quickchart-complete');\n",
              "    }\n",
              "    (() => {\n",
              "      let quickchartButtonEl =\n",
              "        document.querySelector('#df-bfff2c28-a8fc-433a-910a-7f7e11645277 button');\n",
              "      quickchartButtonEl.style.display =\n",
              "        google.colab.kernel.accessAllowed ? 'block' : 'none';\n",
              "    })();\n",
              "  </script>\n",
              "</div>\n",
              "\n",
              "    </div>\n",
              "  </div>\n"
            ]
          },
          "metadata": {},
          "execution_count": 25
        }
      ],
      "source": [
        "df.sort_values(by=['text_len'], ascending=False)"
      ]
    },
    {
      "cell_type": "code",
      "execution_count": 26,
      "id": "d1869b2c",
      "metadata": {
        "_kg_hide-input": true,
        "execution": {
          "iopub.execute_input": "2023-12-12T15:36:29.892713Z",
          "iopub.status.busy": "2023-12-12T15:36:29.891830Z",
          "iopub.status.idle": "2023-12-12T15:36:30.892270Z",
          "shell.execute_reply": "2023-12-12T15:36:30.892753Z",
          "shell.execute_reply.started": "2023-12-12T15:18:48.257062Z"
        },
        "id": "d1869b2c",
        "outputId": "bf7c1ad1-e01b-4480-8dc8-ea113c06e814",
        "papermill": {
          "duration": 1.164187,
          "end_time": "2023-12-12T15:36:30.892947",
          "exception": false,
          "start_time": "2023-12-12T15:36:29.728760",
          "status": "completed"
        },
        "tags": [],
        "colab": {
          "base_uri": "https://localhost:8080/",
          "height": 452
        }
      },
      "outputs": [
        {
          "output_type": "display_data",
          "data": {
            "text/plain": [
              "<Figure size 1600x500 with 1 Axes>"
            ],
            "image/png": "[encoded data removed]"
          },
          "metadata": {}
        }
      ],
      "source": [
        "plt.figure(figsize=(16,5))\n",
        "ax = sns.countplot(x='text_len', data=df[(df['text_len']<=1000) & (df['text_len']>10)], palette='Blues_r')\n",
        "plt.title('Count of tweets with high number of words', fontsize=25)\n",
        "plt.yticks([])\n",
        "ax.bar_label(ax.containers[0])\n",
        "plt.ylabel('count')\n",
        "plt.xlabel('')\n",
        "plt.show()"
      ]
    },
    {
      "cell_type": "code",
      "execution_count": 27,
      "id": "ac407bbe",
      "metadata": {
        "execution": {
          "iopub.execute_input": "2023-12-12T15:36:31.535842Z",
          "iopub.status.busy": "2023-12-12T15:36:31.535252Z",
          "iopub.status.idle": "2023-12-12T15:36:31.543714Z",
          "shell.execute_reply": "2023-12-12T15:36:31.544222Z",
          "shell.execute_reply.started": "2023-12-12T15:18:49.233166Z"
        },
        "id": "ac407bbe",
        "papermill": {
          "duration": 0.167972,
          "end_time": "2023-12-12T15:36:31.544389",
          "exception": false,
          "start_time": "2023-12-12T15:36:31.376417",
          "status": "completed"
        },
        "tags": []
      },
      "outputs": [],
      "source": [
        "df = df[df['text_len'] < df['text_len'].quantile(0.995)]"
      ]
    },
    {
      "cell_type": "code",
      "execution_count": 28,
      "id": "376f9e33",
      "metadata": {
        "execution": {
          "iopub.execute_input": "2023-12-12T15:36:32.165034Z",
          "iopub.status.busy": "2023-12-12T15:36:32.164326Z",
          "iopub.status.idle": "2023-12-12T15:36:32.167958Z",
          "shell.execute_reply": "2023-12-12T15:36:32.167430Z",
          "shell.execute_reply.started": "2023-12-12T15:18:49.245293Z"
        },
        "id": "376f9e33",
        "outputId": "8da58a70-c627-459c-8898-c3bb4d8bd31d",
        "papermill": {
          "duration": 0.16102,
          "end_time": "2023-12-12T15:36:32.168087",
          "exception": false,
          "start_time": "2023-12-12T15:36:32.007067",
          "status": "completed"
        },
        "tags": [],
        "colab": {
          "base_uri": "https://localhost:8080/"
        }
      },
      "outputs": [
        {
          "output_type": "execute_result",
          "data": {
            "text/plain": [
              "44"
            ]
          },
          "metadata": {},
          "execution_count": 28
        }
      ],
      "source": [
        "max_len = np.max(df['text_len'])\n",
        "max_len"
      ]
    },
    {
      "cell_type": "code",
      "execution_count": 29,
      "id": "5bd83e34",
      "metadata": {
        "execution": {
          "iopub.execute_input": "2023-12-12T15:36:32.479622Z",
          "iopub.status.busy": "2023-12-12T15:36:32.478722Z",
          "iopub.status.idle": "2023-12-12T15:36:32.497022Z",
          "shell.execute_reply": "2023-12-12T15:36:32.496418Z",
          "shell.execute_reply.started": "2023-12-12T15:18:49.256224Z"
        },
        "id": "5bd83e34",
        "outputId": "41320040-f147-4160-8384-95cdf7737f9a",
        "papermill": {
          "duration": 0.176022,
          "end_time": "2023-12-12T15:36:32.497152",
          "exception": false,
          "start_time": "2023-12-12T15:36:32.321130",
          "status": "completed"
        },
        "tags": [],
        "colab": {
          "base_uri": "https://localhost:8080/",
          "height": 423
        }
      },
      "outputs": [
        {
          "output_type": "execute_result",
          "data": {
            "text/plain": [
              "                                                    text            sentiment  \\\n",
              "20183  This guys first tweet was 13 hours ago and now...             religion   \n",
              "20754  [2] and then I'm doing it for my petty gain? W...             religion   \n",
              "43845  I just walked past one oyinbo guy who was chil...            ethnicity   \n",
              "39354  Edited: Idk why but i had a lucid dream about ...                  age   \n",
              "13315  This whole ‘Trump and Putin are gay for each o...               gender   \n",
              "...                                                  ...                  ...   \n",
              "1521                             NOOOOOOOOOOOOOOO!  #MKR    not_cyberbullying   \n",
              "30672                                  @lukemckinney 😊😇😘  other_cyberbullying   \n",
              "27219                 @jrinn siiiiiiiiiiiiiiiiiiiiiiiigh  other_cyberbullying   \n",
              "30812                                 @Lesbiologist 👍👍👯😘  other_cyberbullying   \n",
              "1      Why is #aussietv so white? #MKR #theblock #ImA...    not_cyberbullying   \n",
              "\n",
              "                                              text_clean  text_len  \n",
              "20183  This guys first tweet was hours ago and now th...        44  \n",
              "20754  [2] and then I'm doing for petty gain? Wow jus...        44  \n",
              "43845  just walked past one oyinbo guy who was chilli...        44  \n",
              "39354  Edited: Idk why but had lucid dream about and ...        44  \n",
              "13315  This whole ‘Trump and Putin are gay for each o...        44  \n",
              "...                                                  ...       ...  \n",
              "1521                                   NOOOOOOOOOOOOOOO!         1  \n",
              "30672  smiling_face_with_smiling_eyessmiling_face_wit...         1  \n",
              "27219                        siiiiiiiiiiiiiiiiiiiiiiiigh         1  \n",
              "30812  thumbs_upthumbs_uppeople_with_bunny_earsface_b...         1  \n",
              "1                                                                0  \n",
              "\n",
              "[43989 rows x 4 columns]"
            ],
            "text/html": [
              "\n",
              "  <div id=\"df-20bf7510-58be-421d-b088-90a97ddfd542\" class=\"colab-df-container\">\n",
              "    <div>\n",
              "<style scoped>\n",
              "    .dataframe tbody tr th:only-of-type {\n",
              "        vertical-align: middle;\n",
              "    }\n",
              "\n",
              "    .dataframe tbody tr th {\n",
              "        vertical-align: top;\n",
              "    }\n",
              "\n",
              "    .dataframe thead th {\n",
              "        text-align: right;\n",
              "    }\n",
              "</style>\n",
              "<table border=\"1\" class=\"dataframe\">\n",
              "  <thead>\n",
              "    <tr style=\"text-align: right;\">\n",
              "      <th></th>\n",
              "      <th>text</th>\n",
              "      <th>sentiment</th>\n",
              "      <th>text_clean</th>\n",
              "      <th>text_len</th>\n",
              "    </tr>\n",
              "  </thead>\n",
              "  <tbody>\n",
              "    <tr>\n",
              "      <th>20183</th>\n",
              "      <td>This guys first tweet was 13 hours ago and now...</td>\n",
              "      <td>religion</td>\n",
              "      <td>This guys first tweet was hours ago and now th...</td>\n",
              "      <td>44</td>\n",
              "    </tr>\n",
              "    <tr>\n",
              "      <th>20754</th>\n",
              "      <td>[2] and then I'm doing it for my petty gain? W...</td>\n",
              "      <td>religion</td>\n",
              "      <td>[2] and then I'm doing for petty gain? Wow jus...</td>\n",
              "      <td>44</td>\n",
              "    </tr>\n",
              "    <tr>\n",
              "      <th>43845</th>\n",
              "      <td>I just walked past one oyinbo guy who was chil...</td>\n",
              "      <td>ethnicity</td>\n",
              "      <td>just walked past one oyinbo guy who was chilli...</td>\n",
              "      <td>44</td>\n",
              "    </tr>\n",
              "    <tr>\n",
              "      <th>39354</th>\n",
              "      <td>Edited: Idk why but i had a lucid dream about ...</td>\n",
              "      <td>age</td>\n",
              "      <td>Edited: Idk why but had lucid dream about and ...</td>\n",
              "      <td>44</td>\n",
              "    </tr>\n",
              "    <tr>\n",
              "      <th>13315</th>\n",
              "      <td>This whole ‘Trump and Putin are gay for each o...</td>\n",
              "      <td>gender</td>\n",
              "      <td>This whole ‘Trump and Putin are gay for each o...</td>\n",
              "      <td>44</td>\n",
              "    </tr>\n",
              "    <tr>\n",
              "      <th>...</th>\n",
              "      <td>...</td>\n",
              "      <td>...</td>\n",
              "      <td>...</td>\n",
              "      <td>...</td>\n",
              "    </tr>\n",
              "    <tr>\n",
              "      <th>1521</th>\n",
              "      <td>NOOOOOOOOOOOOOOO!  #MKR</td>\n",
              "      <td>not_cyberbullying</td>\n",
              "      <td>NOOOOOOOOOOOOOOO!</td>\n",
              "      <td>1</td>\n",
              "    </tr>\n",
              "    <tr>\n",
              "      <th>30672</th>\n",
              "      <td>@lukemckinney 😊😇😘</td>\n",
              "      <td>other_cyberbullying</td>\n",
              "      <td>smiling_face_with_smiling_eyessmiling_face_wit...</td>\n",
              "      <td>1</td>\n",
              "    </tr>\n",
              "    <tr>\n",
              "      <th>27219</th>\n",
              "      <td>@jrinn siiiiiiiiiiiiiiiiiiiiiiiigh</td>\n",
              "      <td>other_cyberbullying</td>\n",
              "      <td>siiiiiiiiiiiiiiiiiiiiiiiigh</td>\n",
              "      <td>1</td>\n",
              "    </tr>\n",
              "    <tr>\n",
              "      <th>30812</th>\n",
              "      <td>@Lesbiologist 👍👍👯😘</td>\n",
              "      <td>other_cyberbullying</td>\n",
              "      <td>thumbs_upthumbs_uppeople_with_bunny_earsface_b...</td>\n",
              "      <td>1</td>\n",
              "    </tr>\n",
              "    <tr>\n",
              "      <th>1</th>\n",
              "      <td>Why is #aussietv so white? #MKR #theblock #ImA...</td>\n",
              "      <td>not_cyberbullying</td>\n",
              "      <td></td>\n",
              "      <td>0</td>\n",
              "    </tr>\n",
              "  </tbody>\n",
              "</table>\n",
              "<p>43989 rows × 4 columns</p>\n",
              "</div>\n",
              "    <div class=\"colab-df-buttons\">\n",
              "\n",
              "  <div class=\"colab-df-container\">\n",
              "    <button class=\"colab-df-convert\" onclick=\"convertToInteractive('df-20bf7510-58be-421d-b088-90a97ddfd542')\"\n",
              "            title=\"Convert this dataframe to an interactive table.\"\n",
              "            style=\"display:none;\">\n",
              "\n",
              "  <svg xmlns=\"http://www.w3.org/2000/svg\" height=\"24px\" viewBox=\"0 -960 960 960\">\n",
              "    <path d=\"M120-120v-720h720v720H120Zm60-500h600v-160H180v160Zm220 220h160v-160H400v160Zm0 220h160v-160H400v160ZM180-400h160v-160H180v160Zm440 0h160v-160H620v160ZM180-180h160v-160H180v160Zm440 0h160v-160H620v160Z\"/>\n",
              "  </svg>\n",
              "    </button>\n",
              "\n",
              "  <style>\n",
              "    .colab-df-container {\n",
              "      display:flex;\n",
              "      gap: 12px;\n",
              "    }\n",
              "\n",
              "    .colab-df-convert {\n",
              "      background-color: #E8F0FE;\n",
              "      border: none;\n",
              "      border-radius: 50%;\n",
              "      cursor: pointer;\n",
              "      display: none;\n",
              "      fill: #1967D2;\n",
              "      height: 32px;\n",
              "      padding: 0 0 0 0;\n",
              "      width: 32px;\n",
              "    }\n",
              "\n",
              "    .colab-df-convert:hover {\n",
              "      background-color: #E2EBFA;\n",
              "      box-shadow: 0px 1px 2px rgba(60, 64, 67, 0.3), 0px 1px 3px 1px rgba(60, 64, 67, 0.15);\n",
              "      fill: #174EA6;\n",
              "    }\n",
              "\n",
              "    .colab-df-buttons div {\n",
              "      margin-bottom: 4px;\n",
              "    }\n",
              "\n",
              "    [theme=dark] .colab-df-convert {\n",
              "      background-color: #3B4455;\n",
              "      fill: #D2E3FC;\n",
              "    }\n",
              "\n",
              "    [theme=dark] .colab-df-convert:hover {\n",
              "      background-color: #434B5C;\n",
              "      box-shadow: 0px 1px 3px 1px rgba(0, 0, 0, 0.15);\n",
              "      filter: drop-shadow(0px 1px 2px rgba(0, 0, 0, 0.3));\n",
              "      fill: #FFFFFF;\n",
              "    }\n",
              "  </style>\n",
              "\n",
              "    <script>\n",
              "      const buttonEl =\n",
              "        document.querySelector('#df-20bf7510-58be-421d-b088-90a97ddfd542 button.colab-df-convert');\n",
              "      buttonEl.style.display =\n",
              "        google.colab.kernel.accessAllowed ? 'block' : 'none';\n",
              "\n",
              "      async function convertToInteractive(key) {\n",
              "        const element = document.querySelector('#df-20bf7510-58be-421d-b088-90a97ddfd542');\n",
              "        const dataTable =\n",
              "          await google.colab.kernel.invokeFunction('convertToInteractive',\n",
              "                                                    [key], {});\n",
              "        if (!dataTable) return;\n",
              "\n",
              "        const docLinkHtml = 'Like what you see? Visit the ' +\n",
              "          '<a target=\"_blank\" href=https://colab.research.google.com/notebooks/data_table.ipynb>data table notebook</a>'\n",
              "          + ' to learn more about interactive tables.';\n",
              "        element.innerHTML = '';\n",
              "        dataTable['output_type'] = 'display_data';\n",
              "        await google.colab.output.renderOutput(dataTable, element);\n",
              "        const docLink = document.createElement('div');\n",
              "        docLink.innerHTML = docLinkHtml;\n",
              "        element.appendChild(docLink);\n",
              "      }\n",
              "    </script>\n",
              "  </div>\n",
              "\n",
              "\n",
              "<div id=\"df-e3623f3b-2274-4ab1-ba52-5f4ab4cacbe2\">\n",
              "  <button class=\"colab-df-quickchart\" onclick=\"quickchart('df-e3623f3b-2274-4ab1-ba52-5f4ab4cacbe2')\"\n",
              "            title=\"Suggest charts\"\n",
              "            style=\"display:none;\">\n",
              "\n",
              "<svg xmlns=\"http://www.w3.org/2000/svg\" height=\"24px\"viewBox=\"0 0 24 24\"\n",
              "     width=\"24px\">\n",
              "    <g>\n",
              "        <path d=\"M19 3H5c-1.1 0-2 .9-2 2v14c0 1.1.9 2 2 2h14c1.1 0 2-.9 2-2V5c0-1.1-.9-2-2-2zM9 17H7v-7h2v7zm4 0h-2V7h2v10zm4 0h-2v-4h2v4z\"/>\n",
              "    </g>\n",
              "</svg>\n",
              "  </button>\n",
              "\n",
              "<style>\n",
              "  .colab-df-quickchart {\n",
              "      --bg-color: #E8F0FE;\n",
              "      --fill-color: #1967D2;\n",
              "      --hover-bg-color: #E2EBFA;\n",
              "      --hover-fill-color: #174EA6;\n",
              "      --disabled-fill-color: #AAA;\n",
              "      --disabled-bg-color: #DDD;\n",
              "  }\n",
              "\n",
              "  [theme=dark] .colab-df-quickchart {\n",
              "      --bg-color: #3B4455;\n",
              "      --fill-color: #D2E3FC;\n",
              "      --hover-bg-color: #434B5C;\n",
              "      --hover-fill-color: #FFFFFF;\n",
              "      --disabled-bg-color: #3B4455;\n",
              "      --disabled-fill-color: #666;\n",
              "  }\n",
              "\n",
              "  .colab-df-quickchart {\n",
              "    background-color: var(--bg-color);\n",
              "    border: none;\n",
              "    border-radius: 50%;\n",
              "    cursor: pointer;\n",
              "    display: none;\n",
              "    fill: var(--fill-color);\n",
              "    height: 32px;\n",
              "    padding: 0;\n",
              "    width: 32px;\n",
              "  }\n",
              "\n",
              "  .colab-df-quickchart:hover {\n",
              "    background-color: var(--hover-bg-color);\n",
              "    box-shadow: 0 1px 2px rgba(60, 64, 67, 0.3), 0 1px 3px 1px rgba(60, 64, 67, 0.15);\n",
              "    fill: var(--button-hover-fill-color);\n",
              "  }\n",
              "\n",
              "  .colab-df-quickchart-complete:disabled,\n",
              "  .colab-df-quickchart-complete:disabled:hover {\n",
              "    background-color: var(--disabled-bg-color);\n",
              "    fill: var(--disabled-fill-color);\n",
              "    box-shadow: none;\n",
              "  }\n",
              "\n",
              "  .colab-df-spinner {\n",
              "    border: 2px solid var(--fill-color);\n",
              "    border-color: transparent;\n",
              "    border-bottom-color: var(--fill-color);\n",
              "    animation:\n",
              "      spin 1s steps(1) infinite;\n",
              "  }\n",
              "\n",
              "  @keyframes spin {\n",
              "    0% {\n",
              "      border-color: transparent;\n",
              "      border-bottom-color: var(--fill-color);\n",
              "      border-left-color: var(--fill-color);\n",
              "    }\n",
              "    20% {\n",
              "      border-color: transparent;\n",
              "      border-left-color: var(--fill-color);\n",
              "      border-top-color: var(--fill-color);\n",
              "    }\n",
              "    30% {\n",
              "      border-color: transparent;\n",
              "      border-left-color: var(--fill-color);\n",
              "      border-top-color: var(--fill-color);\n",
              "      border-right-color: var(--fill-color);\n",
              "    }\n",
              "    40% {\n",
              "      border-color: transparent;\n",
              "      border-right-color: var(--fill-color);\n",
              "      border-top-color: var(--fill-color);\n",
              "    }\n",
              "    60% {\n",
              "      border-color: transparent;\n",
              "      border-right-color: var(--fill-color);\n",
              "    }\n",
              "    80% {\n",
              "      border-color: transparent;\n",
              "      border-right-color: var(--fill-color);\n",
              "      border-bottom-color: var(--fill-color);\n",
              "    }\n",
              "    90% {\n",
              "      border-color: transparent;\n",
              "      border-bottom-color: var(--fill-color);\n",
              "    }\n",
              "  }\n",
              "</style>\n",
              "\n",
              "  <script>\n",
              "    async function quickchart(key) {\n",
              "      const quickchartButtonEl =\n",
              "        document.querySelector('#' + key + ' button');\n",
              "      quickchartButtonEl.disabled = true;  // To prevent multiple clicks.\n",
              "      quickchartButtonEl.classList.add('colab-df-spinner');\n",
              "      try {\n",
              "        const charts = await google.colab.kernel.invokeFunction(\n",
              "            'suggestCharts', [key], {});\n",
              "      } catch (error) {\n",
              "        console.error('Error during call to suggestCharts:', error);\n",
              "      }\n",
              "      quickchartButtonEl.classList.remove('colab-df-spinner');\n",
              "      quickchartButtonEl.classList.add('colab-df-quickchart-complete');\n",
              "    }\n",
              "    (() => {\n",
              "      let quickchartButtonEl =\n",
              "        document.querySelector('#df-e3623f3b-2274-4ab1-ba52-5f4ab4cacbe2 button');\n",
              "      quickchartButtonEl.style.display =\n",
              "        google.colab.kernel.accessAllowed ? 'block' : 'none';\n",
              "    })();\n",
              "  </script>\n",
              "</div>\n",
              "\n",
              "    </div>\n",
              "  </div>\n"
            ]
          },
          "metadata": {},
          "execution_count": 29
        }
      ],
      "source": [
        "df.sort_values(by=[\"text_len\"], ascending=False)"
      ]
    },
    {
      "cell_type": "code",
      "execution_count": 30,
      "id": "7f2c4130",
      "metadata": {
        "execution": {
          "iopub.execute_input": "2023-12-12T15:36:33.438173Z",
          "iopub.status.busy": "2023-12-12T15:36:33.437350Z",
          "iopub.status.idle": "2023-12-12T15:36:33.471266Z",
          "shell.execute_reply": "2023-12-12T15:36:33.470599Z",
          "shell.execute_reply.started": "2023-12-12T15:18:49.277234Z"
        },
        "id": "7f2c4130",
        "papermill": {
          "duration": 0.196782,
          "end_time": "2023-12-12T15:36:33.471413",
          "exception": false,
          "start_time": "2023-12-12T15:36:33.274631",
          "status": "completed"
        },
        "tags": []
      },
      "outputs": [],
      "source": [
        "df['sentiment'] = df['sentiment'].replace({\n",
        "    'religion':0,\n",
        "    'age':1,\n",
        "    'ethnicity':2,\n",
        "    'gender':3,\n",
        "    'not_cyberbullying':4,\n",
        "    'other_cyberbullying':5\n",
        "})"
      ]
    },
    {
      "cell_type": "code",
      "execution_count": 31,
      "id": "bcc69d07",
      "metadata": {
        "execution": {
          "iopub.execute_input": "2023-12-12T15:36:34.419782Z",
          "iopub.status.busy": "2023-12-12T15:36:34.419170Z",
          "iopub.status.idle": "2023-12-12T15:36:34.421847Z",
          "shell.execute_reply": "2023-12-12T15:36:34.421353Z",
          "shell.execute_reply.started": "2023-12-12T15:18:49.318876Z"
        },
        "id": "bcc69d07",
        "papermill": {
          "duration": 0.165575,
          "end_time": "2023-12-12T15:36:34.421997",
          "exception": false,
          "start_time": "2023-12-12T15:36:34.256422",
          "status": "completed"
        },
        "tags": []
      },
      "outputs": [],
      "source": [
        "X = df['text_clean']\n",
        "y = df['sentiment']"
      ]
    },
    {
      "cell_type": "code",
      "execution_count": 32,
      "id": "ad196fa0",
      "metadata": {
        "execution": {
          "iopub.execute_input": "2023-12-12T15:36:34.748818Z",
          "iopub.status.busy": "2023-12-12T15:36:34.748248Z",
          "iopub.status.idle": "2023-12-12T15:36:34.784351Z",
          "shell.execute_reply": "2023-12-12T15:36:34.784820Z",
          "shell.execute_reply.started": "2023-12-12T15:18:49.324269Z"
        },
        "id": "ad196fa0",
        "papermill": {
          "duration": 0.201482,
          "end_time": "2023-12-12T15:36:34.785018",
          "exception": false,
          "start_time": "2023-12-12T15:36:34.583536",
          "status": "completed"
        },
        "tags": []
      },
      "outputs": [],
      "source": [
        "X_train, X_test, y_train, y_test = train_test_split(X, y, test_size=0.2, stratify=y, random_state=seed_value)"
      ]
    },
    {
      "cell_type": "code",
      "execution_count": 33,
      "id": "bd556b49",
      "metadata": {
        "execution": {
          "iopub.execute_input": "2023-12-12T15:36:35.727425Z",
          "iopub.status.busy": "2023-12-12T15:36:35.726784Z",
          "iopub.status.idle": "2023-12-12T15:36:35.756259Z",
          "shell.execute_reply": "2023-12-12T15:36:35.755739Z",
          "shell.execute_reply.started": "2023-12-12T15:18:49.369662Z"
        },
        "id": "bd556b49",
        "papermill": {
          "duration": 0.19053,
          "end_time": "2023-12-12T15:36:35.756380",
          "exception": false,
          "start_time": "2023-12-12T15:36:35.565850",
          "status": "completed"
        },
        "tags": []
      },
      "outputs": [],
      "source": [
        "X_train, X_valid, y_train, y_valid = train_test_split(X_train, y_train, test_size=0.2, stratify=y_train, random_state=seed_value)"
      ]
    },
    {
      "cell_type": "code",
      "execution_count": 34,
      "id": "6dbe7d7f",
      "metadata": {
        "execution": {
          "iopub.execute_input": "2023-12-12T15:36:36.075930Z",
          "iopub.status.busy": "2023-12-12T15:36:36.075191Z",
          "iopub.status.idle": "2023-12-12T15:36:36.080821Z",
          "shell.execute_reply": "2023-12-12T15:36:36.080312Z",
          "shell.execute_reply.started": "2023-12-12T15:18:49.403122Z"
        },
        "id": "6dbe7d7f",
        "outputId": "428542c0-15e1-4891-ca6d-c013274e6817",
        "papermill": {
          "duration": 0.171218,
          "end_time": "2023-12-12T15:36:36.080977",
          "exception": false,
          "start_time": "2023-12-12T15:36:35.909759",
          "status": "completed"
        },
        "tags": [],
        "colab": {
          "base_uri": "https://localhost:8080/"
        }
      },
      "outputs": [
        {
          "output_type": "execute_result",
          "data": {
            "text/plain": [
              "array([[   0, 5044],\n",
              "       [   1, 5010],\n",
              "       [   2, 4990],\n",
              "       [   3, 4791],\n",
              "       [   4, 4717],\n",
              "       [   5, 3600]])"
            ]
          },
          "metadata": {},
          "execution_count": 34
        }
      ],
      "source": [
        "(unique, counts) = np.unique(y_train, return_counts=True)\n",
        "np.asarray((unique, counts)).T"
      ]
    },
    {
      "cell_type": "code",
      "execution_count": 35,
      "id": "4de24cdc",
      "metadata": {
        "execution": {
          "iopub.execute_input": "2023-12-12T15:36:37.052117Z",
          "iopub.status.busy": "2023-12-12T15:36:37.051173Z",
          "iopub.status.idle": "2023-12-12T15:36:37.112181Z",
          "shell.execute_reply": "2023-12-12T15:36:37.111630Z",
          "shell.execute_reply.started": "2023-12-12T15:18:49.411276Z"
        },
        "id": "4de24cdc",
        "papermill": {
          "duration": 0.221185,
          "end_time": "2023-12-12T15:36:37.112330",
          "exception": false,
          "start_time": "2023-12-12T15:36:36.891145",
          "status": "completed"
        },
        "tags": []
      },
      "outputs": [],
      "source": [
        "ros = RandomOverSampler()\n",
        "X_train, y_train = ros.fit_resample(np.array(X_train).reshape(-1, 1), np.array(y_train).reshape(-1, 1));\n",
        "train_os = pd.DataFrame(list(zip([x[0] for x in X_train], y_train)), columns = ['text_clean', 'sentiment']);"
      ]
    },
    {
      "cell_type": "code",
      "execution_count": 36,
      "id": "7e9ea633",
      "metadata": {
        "execution": {
          "iopub.execute_input": "2023-12-12T15:36:37.427991Z",
          "iopub.status.busy": "2023-12-12T15:36:37.427109Z",
          "iopub.status.idle": "2023-12-12T15:36:37.429653Z",
          "shell.execute_reply": "2023-12-12T15:36:37.429166Z",
          "shell.execute_reply.started": "2023-12-12T15:18:49.482288Z"
        },
        "id": "7e9ea633",
        "papermill": {
          "duration": 0.161116,
          "end_time": "2023-12-12T15:36:37.429782",
          "exception": false,
          "start_time": "2023-12-12T15:36:37.268666",
          "status": "completed"
        },
        "tags": []
      },
      "outputs": [],
      "source": [
        "X_train = train_os['text_clean'].values\n",
        "y_train = train_os['sentiment'].values"
      ]
    },
    {
      "cell_type": "code",
      "execution_count": 37,
      "id": "400738a0",
      "metadata": {
        "execution": {
          "iopub.execute_input": "2023-12-12T15:36:37.757303Z",
          "iopub.status.busy": "2023-12-12T15:36:37.756355Z",
          "iopub.status.idle": "2023-12-12T15:36:37.761648Z",
          "shell.execute_reply": "2023-12-12T15:36:37.762176Z",
          "shell.execute_reply.started": "2023-12-12T15:18:49.489968Z"
        },
        "id": "400738a0",
        "outputId": "ab77be72-a660-4c69-a3ce-60de1c1a3de7",
        "papermill": {
          "duration": 0.176174,
          "end_time": "2023-12-12T15:36:37.762338",
          "exception": false,
          "start_time": "2023-12-12T15:36:37.586164",
          "status": "completed"
        },
        "tags": [],
        "colab": {
          "base_uri": "https://localhost:8080/"
        }
      },
      "outputs": [
        {
          "output_type": "execute_result",
          "data": {
            "text/plain": [
              "array([[   0, 5044],\n",
              "       [   1, 5044],\n",
              "       [   2, 5044],\n",
              "       [   3, 5044],\n",
              "       [   4, 5044],\n",
              "       [   5, 5044]])"
            ]
          },
          "metadata": {},
          "execution_count": 37
        }
      ],
      "source": [
        "(unique, counts) = np.unique(y_train, return_counts=True)\n",
        "np.asarray((unique, counts)).T"
      ]
    }
  ],
  "metadata": {
    "kaggle": {
      "accelerator": "gpu",
      "dataSources": [
        {
          "datasetId": 1869236,
          "sourceId": 3053020,
          "sourceType": "datasetVersion"
        }
      ],
      "dockerImageVersionId": 30153,
      "isGpuEnabled": true,
      "isInternetEnabled": true,
      "language": "python",
      "sourceType": "notebook"
    },
    "kernelspec": {
      "display_name": "Python 3",
      "language": "python",
      "name": "python3"
    },
    "language_info": {
      "codemirror_mode": {
        "name": "ipython",
        "version": 3
      },
      "file_extension": ".py",
      "mimetype": "text/x-python",
      "name": "python",
      "nbconvert_exporter": "python",
      "pygments_lexer": "ipython3",
      "version": "3.7.12"
    },
    "papermill": {
      "default_parameters": {},
      "duration": 1101.756169,
      "end_time": "2023-12-12T15:53:09.879486",
      "environment_variables": {},
      "exception": null,
      "input_path": "__notebook__.ipynb",
      "output_path": "__notebook__.ipynb",
      "parameters": {},
      "start_time": "2023-12-12T15:34:48.123317",
      "version": "2.3.3"
    },
    "colab": {
      "provenance": []
    }
  },
  "nbformat": 4,
  "nbformat_minor": 5
}